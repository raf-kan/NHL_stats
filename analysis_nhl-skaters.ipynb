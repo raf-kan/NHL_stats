{
 "metadata": {
  "language_info": {
   "codemirror_mode": {
    "name": "ipython",
    "version": 3
   },
   "file_extension": ".py",
   "mimetype": "text/x-python",
   "name": "python",
   "nbconvert_exporter": "python",
   "pygments_lexer": "ipython3",
   "version": "3.7.6"
  },
  "orig_nbformat": 2,
  "kernelspec": {
   "name": "python376jvsc74a57bd02066ab7b33253b7cb0f5d1837cb12de1b26c7e292e16486f8f58310cc5ce9efd",
   "display_name": "Python 3.7.6 64-bit ('base': conda)"
  }
 },
 "nbformat": 4,
 "nbformat_minor": 2,
 "cells": [
  {
   "cell_type": "code",
   "execution_count": 2,
   "metadata": {},
   "outputs": [],
   "source": [
    "import pandas as pd\n",
    "import plotly.express as px\n",
    "import plotly.graph_objects as go\n",
    "import seaborn as sns"
   ]
  },
  {
   "cell_type": "code",
   "execution_count": 3,
   "metadata": {},
   "outputs": [
    {
     "output_type": "execute_result",
     "data": {
      "text/plain": [
       "                Player    Season Team S/C Pos  GP   G   A    P  +/-  ...  PPG  \\\n",
       "0       Connor McDavid  20202021  EDM   L   C  56  33  72  105   21  ...    9   \n",
       "1       Leon Draisaitl  20202021  EDM   L   C  56  31  53   84   29  ...   15   \n",
       "2        Brad Marchand  20202021  BOS   L   L  53  29  40   69   26  ...    4   \n",
       "3      Mitchell Marner  20202021  TOR   R   R  55  20  47   67   21  ...    0   \n",
       "4      Auston Matthews  20202021  TOR   L   C  52  41  25   66   21  ...   10   \n",
       "5       Mikko Rantanen  20202021  COL   L   R  52  30  36   66   30  ...    9   \n",
       "6         Patrick Kane  20202021  CHI   L   R  56  15  51   66   -7  ...    3   \n",
       "7     Nathan MacKinnon  20202021  COL   R   C  48  20  45   65   22  ...    8   \n",
       "8       Mark Scheifele  20202021  WPG   R   C  56  21  42   63   -4  ...    4   \n",
       "9        Sidney Crosby  20202021  PIT   L   C  55  24  38   62    8  ...    5   \n",
       "10          Mark Stone  20202021  VGK   R   R  55  21  40   61   26  ...    6   \n",
       "11  Jonathan Huberdeau  20202021  FLA   L   L  55  20  41   61   12  ...    5   \n",
       "12   Aleksander Barkov  20202021  FLA   L   C  50  26  32   58   12  ...    7   \n",
       "13        David Perron  20202021  STL   R   L  56  19  39   58    6  ...    6   \n",
       "14      Artemi Panarin  20202021  NYR   R   L  42  17  41   58   14  ...    5   \n",
       "15       Sebastian Aho  20202021  CAR   L   C  56  24  33   57   16  ...    7   \n",
       "16       Jake Guentzel  20202021  PIT   L   L  56  23  34   57    7  ...    6   \n",
       "17      Alex DeBrincat  20202021  CHI   R   L  52  32  24   56    3  ...    9   \n",
       "18       Ryan O'Reilly  20202021  STL   L   C  56  24  30   54   26  ...    4   \n",
       "19   Nicklas Backstrom  20202021  WSH   L   C  55  15  38   53    0  ...    5   \n",
       "\n",
       "    PPP  SHG  SHP  OTG  GWG    S    S%  TOI/GP  FOW%  \n",
       "0    37    0    0    2   11  200  16.5   22:09  49.5  \n",
       "1    32    1    1    0    8  168  18.5   22:11  55.7  \n",
       "2    18    4    7    1    5  143  20.3   18:55  31.4  \n",
       "3    14    0    2    0    5  156  12.8   22:26    80  \n",
       "4    13    0    0    2   12  222  18.5   21:33  51.9  \n",
       "5    24    0    0    0    7  177  17.0   19:55    50  \n",
       "6    22    0    0    0    3  191   7.9   22:14  28.6  \n",
       "7    25    0    0    0    2  206   9.7   20:22  48.5  \n",
       "8    17    0    0    0    4  126  16.7   20:58  49.8  \n",
       "9    22    1    1    2    5  159  15.1   20:24  53.6  \n",
       "10   17    1    1    0    8   98  21.4   19:04    40  \n",
       "11   24    0    0    1    1  122  16.4   18:25  43.6  \n",
       "12   19    1    1    2    6  176  14.8   20:56  54.9  \n",
       "13   21    0    0    1    2  151  12.6   18:33     0  \n",
       "14   18    0    0    0    1  106  16.0   19:39     0  \n",
       "15   18    3    3    1    7  148  16.2   19:28  52.8  \n",
       "16   18    0    1    1    7  141  16.3   20:16    25  \n",
       "17   18    1    1    3    7  155  20.7   20:32    40  \n",
       "18   12    2    2    2    4  129  18.6   20:45  58.9  \n",
       "19   22    0    0    0    0   91  16.5   18:36  48.3  \n",
       "\n",
       "[20 rows x 24 columns]"
      ],
      "text/html": "<div>\n<style scoped>\n    .dataframe tbody tr th:only-of-type {\n        vertical-align: middle;\n    }\n\n    .dataframe tbody tr th {\n        vertical-align: top;\n    }\n\n    .dataframe thead th {\n        text-align: right;\n    }\n</style>\n<table border=\"1\" class=\"dataframe\">\n  <thead>\n    <tr style=\"text-align: right;\">\n      <th></th>\n      <th>Player</th>\n      <th>Season</th>\n      <th>Team</th>\n      <th>S/C</th>\n      <th>Pos</th>\n      <th>GP</th>\n      <th>G</th>\n      <th>A</th>\n      <th>P</th>\n      <th>+/-</th>\n      <th>...</th>\n      <th>PPG</th>\n      <th>PPP</th>\n      <th>SHG</th>\n      <th>SHP</th>\n      <th>OTG</th>\n      <th>GWG</th>\n      <th>S</th>\n      <th>S%</th>\n      <th>TOI/GP</th>\n      <th>FOW%</th>\n    </tr>\n  </thead>\n  <tbody>\n    <tr>\n      <th>0</th>\n      <td>Connor McDavid</td>\n      <td>20202021</td>\n      <td>EDM</td>\n      <td>L</td>\n      <td>C</td>\n      <td>56</td>\n      <td>33</td>\n      <td>72</td>\n      <td>105</td>\n      <td>21</td>\n      <td>...</td>\n      <td>9</td>\n      <td>37</td>\n      <td>0</td>\n      <td>0</td>\n      <td>2</td>\n      <td>11</td>\n      <td>200</td>\n      <td>16.5</td>\n      <td>22:09</td>\n      <td>49.5</td>\n    </tr>\n    <tr>\n      <th>1</th>\n      <td>Leon Draisaitl</td>\n      <td>20202021</td>\n      <td>EDM</td>\n      <td>L</td>\n      <td>C</td>\n      <td>56</td>\n      <td>31</td>\n      <td>53</td>\n      <td>84</td>\n      <td>29</td>\n      <td>...</td>\n      <td>15</td>\n      <td>32</td>\n      <td>1</td>\n      <td>1</td>\n      <td>0</td>\n      <td>8</td>\n      <td>168</td>\n      <td>18.5</td>\n      <td>22:11</td>\n      <td>55.7</td>\n    </tr>\n    <tr>\n      <th>2</th>\n      <td>Brad Marchand</td>\n      <td>20202021</td>\n      <td>BOS</td>\n      <td>L</td>\n      <td>L</td>\n      <td>53</td>\n      <td>29</td>\n      <td>40</td>\n      <td>69</td>\n      <td>26</td>\n      <td>...</td>\n      <td>4</td>\n      <td>18</td>\n      <td>4</td>\n      <td>7</td>\n      <td>1</td>\n      <td>5</td>\n      <td>143</td>\n      <td>20.3</td>\n      <td>18:55</td>\n      <td>31.4</td>\n    </tr>\n    <tr>\n      <th>3</th>\n      <td>Mitchell Marner</td>\n      <td>20202021</td>\n      <td>TOR</td>\n      <td>R</td>\n      <td>R</td>\n      <td>55</td>\n      <td>20</td>\n      <td>47</td>\n      <td>67</td>\n      <td>21</td>\n      <td>...</td>\n      <td>0</td>\n      <td>14</td>\n      <td>0</td>\n      <td>2</td>\n      <td>0</td>\n      <td>5</td>\n      <td>156</td>\n      <td>12.8</td>\n      <td>22:26</td>\n      <td>80</td>\n    </tr>\n    <tr>\n      <th>4</th>\n      <td>Auston Matthews</td>\n      <td>20202021</td>\n      <td>TOR</td>\n      <td>L</td>\n      <td>C</td>\n      <td>52</td>\n      <td>41</td>\n      <td>25</td>\n      <td>66</td>\n      <td>21</td>\n      <td>...</td>\n      <td>10</td>\n      <td>13</td>\n      <td>0</td>\n      <td>0</td>\n      <td>2</td>\n      <td>12</td>\n      <td>222</td>\n      <td>18.5</td>\n      <td>21:33</td>\n      <td>51.9</td>\n    </tr>\n    <tr>\n      <th>5</th>\n      <td>Mikko Rantanen</td>\n      <td>20202021</td>\n      <td>COL</td>\n      <td>L</td>\n      <td>R</td>\n      <td>52</td>\n      <td>30</td>\n      <td>36</td>\n      <td>66</td>\n      <td>30</td>\n      <td>...</td>\n      <td>9</td>\n      <td>24</td>\n      <td>0</td>\n      <td>0</td>\n      <td>0</td>\n      <td>7</td>\n      <td>177</td>\n      <td>17.0</td>\n      <td>19:55</td>\n      <td>50</td>\n    </tr>\n    <tr>\n      <th>6</th>\n      <td>Patrick Kane</td>\n      <td>20202021</td>\n      <td>CHI</td>\n      <td>L</td>\n      <td>R</td>\n      <td>56</td>\n      <td>15</td>\n      <td>51</td>\n      <td>66</td>\n      <td>-7</td>\n      <td>...</td>\n      <td>3</td>\n      <td>22</td>\n      <td>0</td>\n      <td>0</td>\n      <td>0</td>\n      <td>3</td>\n      <td>191</td>\n      <td>7.9</td>\n      <td>22:14</td>\n      <td>28.6</td>\n    </tr>\n    <tr>\n      <th>7</th>\n      <td>Nathan MacKinnon</td>\n      <td>20202021</td>\n      <td>COL</td>\n      <td>R</td>\n      <td>C</td>\n      <td>48</td>\n      <td>20</td>\n      <td>45</td>\n      <td>65</td>\n      <td>22</td>\n      <td>...</td>\n      <td>8</td>\n      <td>25</td>\n      <td>0</td>\n      <td>0</td>\n      <td>0</td>\n      <td>2</td>\n      <td>206</td>\n      <td>9.7</td>\n      <td>20:22</td>\n      <td>48.5</td>\n    </tr>\n    <tr>\n      <th>8</th>\n      <td>Mark Scheifele</td>\n      <td>20202021</td>\n      <td>WPG</td>\n      <td>R</td>\n      <td>C</td>\n      <td>56</td>\n      <td>21</td>\n      <td>42</td>\n      <td>63</td>\n      <td>-4</td>\n      <td>...</td>\n      <td>4</td>\n      <td>17</td>\n      <td>0</td>\n      <td>0</td>\n      <td>0</td>\n      <td>4</td>\n      <td>126</td>\n      <td>16.7</td>\n      <td>20:58</td>\n      <td>49.8</td>\n    </tr>\n    <tr>\n      <th>9</th>\n      <td>Sidney Crosby</td>\n      <td>20202021</td>\n      <td>PIT</td>\n      <td>L</td>\n      <td>C</td>\n      <td>55</td>\n      <td>24</td>\n      <td>38</td>\n      <td>62</td>\n      <td>8</td>\n      <td>...</td>\n      <td>5</td>\n      <td>22</td>\n      <td>1</td>\n      <td>1</td>\n      <td>2</td>\n      <td>5</td>\n      <td>159</td>\n      <td>15.1</td>\n      <td>20:24</td>\n      <td>53.6</td>\n    </tr>\n    <tr>\n      <th>10</th>\n      <td>Mark Stone</td>\n      <td>20202021</td>\n      <td>VGK</td>\n      <td>R</td>\n      <td>R</td>\n      <td>55</td>\n      <td>21</td>\n      <td>40</td>\n      <td>61</td>\n      <td>26</td>\n      <td>...</td>\n      <td>6</td>\n      <td>17</td>\n      <td>1</td>\n      <td>1</td>\n      <td>0</td>\n      <td>8</td>\n      <td>98</td>\n      <td>21.4</td>\n      <td>19:04</td>\n      <td>40</td>\n    </tr>\n    <tr>\n      <th>11</th>\n      <td>Jonathan Huberdeau</td>\n      <td>20202021</td>\n      <td>FLA</td>\n      <td>L</td>\n      <td>L</td>\n      <td>55</td>\n      <td>20</td>\n      <td>41</td>\n      <td>61</td>\n      <td>12</td>\n      <td>...</td>\n      <td>5</td>\n      <td>24</td>\n      <td>0</td>\n      <td>0</td>\n      <td>1</td>\n      <td>1</td>\n      <td>122</td>\n      <td>16.4</td>\n      <td>18:25</td>\n      <td>43.6</td>\n    </tr>\n    <tr>\n      <th>12</th>\n      <td>Aleksander Barkov</td>\n      <td>20202021</td>\n      <td>FLA</td>\n      <td>L</td>\n      <td>C</td>\n      <td>50</td>\n      <td>26</td>\n      <td>32</td>\n      <td>58</td>\n      <td>12</td>\n      <td>...</td>\n      <td>7</td>\n      <td>19</td>\n      <td>1</td>\n      <td>1</td>\n      <td>2</td>\n      <td>6</td>\n      <td>176</td>\n      <td>14.8</td>\n      <td>20:56</td>\n      <td>54.9</td>\n    </tr>\n    <tr>\n      <th>13</th>\n      <td>David Perron</td>\n      <td>20202021</td>\n      <td>STL</td>\n      <td>R</td>\n      <td>L</td>\n      <td>56</td>\n      <td>19</td>\n      <td>39</td>\n      <td>58</td>\n      <td>6</td>\n      <td>...</td>\n      <td>6</td>\n      <td>21</td>\n      <td>0</td>\n      <td>0</td>\n      <td>1</td>\n      <td>2</td>\n      <td>151</td>\n      <td>12.6</td>\n      <td>18:33</td>\n      <td>0</td>\n    </tr>\n    <tr>\n      <th>14</th>\n      <td>Artemi Panarin</td>\n      <td>20202021</td>\n      <td>NYR</td>\n      <td>R</td>\n      <td>L</td>\n      <td>42</td>\n      <td>17</td>\n      <td>41</td>\n      <td>58</td>\n      <td>14</td>\n      <td>...</td>\n      <td>5</td>\n      <td>18</td>\n      <td>0</td>\n      <td>0</td>\n      <td>0</td>\n      <td>1</td>\n      <td>106</td>\n      <td>16.0</td>\n      <td>19:39</td>\n      <td>0</td>\n    </tr>\n    <tr>\n      <th>15</th>\n      <td>Sebastian Aho</td>\n      <td>20202021</td>\n      <td>CAR</td>\n      <td>L</td>\n      <td>C</td>\n      <td>56</td>\n      <td>24</td>\n      <td>33</td>\n      <td>57</td>\n      <td>16</td>\n      <td>...</td>\n      <td>7</td>\n      <td>18</td>\n      <td>3</td>\n      <td>3</td>\n      <td>1</td>\n      <td>7</td>\n      <td>148</td>\n      <td>16.2</td>\n      <td>19:28</td>\n      <td>52.8</td>\n    </tr>\n    <tr>\n      <th>16</th>\n      <td>Jake Guentzel</td>\n      <td>20202021</td>\n      <td>PIT</td>\n      <td>L</td>\n      <td>L</td>\n      <td>56</td>\n      <td>23</td>\n      <td>34</td>\n      <td>57</td>\n      <td>7</td>\n      <td>...</td>\n      <td>6</td>\n      <td>18</td>\n      <td>0</td>\n      <td>1</td>\n      <td>1</td>\n      <td>7</td>\n      <td>141</td>\n      <td>16.3</td>\n      <td>20:16</td>\n      <td>25</td>\n    </tr>\n    <tr>\n      <th>17</th>\n      <td>Alex DeBrincat</td>\n      <td>20202021</td>\n      <td>CHI</td>\n      <td>R</td>\n      <td>L</td>\n      <td>52</td>\n      <td>32</td>\n      <td>24</td>\n      <td>56</td>\n      <td>3</td>\n      <td>...</td>\n      <td>9</td>\n      <td>18</td>\n      <td>1</td>\n      <td>1</td>\n      <td>3</td>\n      <td>7</td>\n      <td>155</td>\n      <td>20.7</td>\n      <td>20:32</td>\n      <td>40</td>\n    </tr>\n    <tr>\n      <th>18</th>\n      <td>Ryan O'Reilly</td>\n      <td>20202021</td>\n      <td>STL</td>\n      <td>L</td>\n      <td>C</td>\n      <td>56</td>\n      <td>24</td>\n      <td>30</td>\n      <td>54</td>\n      <td>26</td>\n      <td>...</td>\n      <td>4</td>\n      <td>12</td>\n      <td>2</td>\n      <td>2</td>\n      <td>2</td>\n      <td>4</td>\n      <td>129</td>\n      <td>18.6</td>\n      <td>20:45</td>\n      <td>58.9</td>\n    </tr>\n    <tr>\n      <th>19</th>\n      <td>Nicklas Backstrom</td>\n      <td>20202021</td>\n      <td>WSH</td>\n      <td>L</td>\n      <td>C</td>\n      <td>55</td>\n      <td>15</td>\n      <td>38</td>\n      <td>53</td>\n      <td>0</td>\n      <td>...</td>\n      <td>5</td>\n      <td>22</td>\n      <td>0</td>\n      <td>0</td>\n      <td>0</td>\n      <td>0</td>\n      <td>91</td>\n      <td>16.5</td>\n      <td>18:36</td>\n      <td>48.3</td>\n    </tr>\n  </tbody>\n</table>\n<p>20 rows × 24 columns</p>\n</div>"
     },
     "metadata": {},
     "execution_count": 3
    }
   ],
   "source": [
    "skaters = pd.read_excel(r\"2020_2021_reg_skaters.xlsx\")\n",
    "test_df = skaters.head(20)\n",
    "test_df"
   ]
  },
  {
   "cell_type": "code",
   "execution_count": 4,
   "metadata": {},
   "outputs": [
    {
     "output_type": "stream",
     "name": "stdout",
     "text": [
      "<class 'pandas.core.frame.DataFrame'>\nRangeIndex: 20 entries, 0 to 19\nColumns: 24 entries, Player to FOW%\ndtypes: float64(2), int64(16), object(6)\nmemory usage: 3.9+ KB\n"
     ]
    }
   ],
   "source": [
    "#test_df.dtypes\n",
    "test_df.info(verbose=False)"
   ]
  },
  {
   "cell_type": "code",
   "execution_count": 5,
   "metadata": {},
   "outputs": [
    {
     "output_type": "execute_result",
     "data": {
      "text/plain": [
       "array(['Player', 'Season', 'Team', 'S/C', 'Pos', 'GP', 'G', 'A', 'P',\n",
       "       '+/-', 'PIM', 'P/GP', 'EVG', 'EVP', 'PPG', 'PPP', 'SHG', 'SHP',\n",
       "       'OTG', 'GWG', 'S', 'S%', 'TOI/GP', 'FOW%'], dtype=object)"
      ]
     },
     "metadata": {},
     "execution_count": 5
    }
   ],
   "source": [
    "test_df.columns.values"
   ]
  },
  {
   "cell_type": "code",
   "execution_count": 6,
   "metadata": {},
   "outputs": [
    {
     "output_type": "stream",
     "name": "stdout",
     "text": [
      "Player\nFalse    20\nName: Player, dtype: int64\n\nSeason\nFalse    20\nName: Season, dtype: int64\n\nTeam\nFalse    20\nName: Team, dtype: int64\n\nS/C\nFalse    20\nName: S/C, dtype: int64\n\nPos\nFalse    20\nName: Pos, dtype: int64\n\nGP\nFalse    20\nName: GP, dtype: int64\n\nG\nFalse    20\nName: G, dtype: int64\n\nA\nFalse    20\nName: A, dtype: int64\n\nP\nFalse    20\nName: P, dtype: int64\n\n+/-\nFalse    20\nName: +/-, dtype: int64\n\nPIM\nFalse    20\nName: PIM, dtype: int64\n\nP/GP\nFalse    20\nName: P/GP, dtype: int64\n\nEVG\nFalse    20\nName: EVG, dtype: int64\n\nEVP\nFalse    20\nName: EVP, dtype: int64\n\nPPG\nFalse    20\nName: PPG, dtype: int64\n\nPPP\nFalse    20\nName: PPP, dtype: int64\n\nSHG\nFalse    20\nName: SHG, dtype: int64\n\nSHP\nFalse    20\nName: SHP, dtype: int64\n\nOTG\nFalse    20\nName: OTG, dtype: int64\n\nGWG\nFalse    20\nName: GWG, dtype: int64\n\nS\nFalse    20\nName: S, dtype: int64\n\nS%\nFalse    20\nName: S%, dtype: int64\n\nTOI/GP\nFalse    20\nName: TOI/GP, dtype: int64\n\nFOW%\nFalse    20\nName: FOW%, dtype: int64\n\n"
     ]
    }
   ],
   "source": [
    "missing_data = test_df.isnull()\n",
    "\n",
    "for column in missing_data.columns.values.tolist():\n",
    "    print(column)\n",
    "    print (missing_data[column].value_counts())\n",
    "    print(\"\")"
   ]
  },
  {
   "cell_type": "code",
   "execution_count": 7,
   "metadata": {},
   "outputs": [
    {
     "output_type": "stream",
     "name": "stderr",
     "text": [
      "C:\\Users\\socce\\anaconda3\\lib\\site-packages\\pandas\\core\\frame.py:3997: SettingWithCopyWarning: \nA value is trying to be set on a copy of a slice from a DataFrame\n\nSee the caveats in the documentation: https://pandas.pydata.org/pandas-docs/stable/user_guide/indexing.html#returning-a-view-versus-a-copy\n  errors=errors,\n"
     ]
    },
    {
     "output_type": "execute_result",
     "data": {
      "text/plain": [
       "                Player Team  GP   G   A    P  +/-  P/GP  EVG  EVP  PPG  PPP  \\\n",
       "0       Connor McDavid  EDM  56  33  72  105   21  1.88   24   68    9   37   \n",
       "1       Leon Draisaitl  EDM  56  31  53   84   29  1.50   15   51   15   32   \n",
       "2        Brad Marchand  BOS  53  29  40   69   26  1.30   21   44    4   18   \n",
       "3      Mitchell Marner  TOR  55  20  47   67   21  1.22   20   51    0   14   \n",
       "4      Auston Matthews  TOR  52  41  25   66   21  1.27   31   53   10   13   \n",
       "5       Mikko Rantanen  COL  52  30  36   66   30  1.27   21   42    9   24   \n",
       "6         Patrick Kane  CHI  56  15  51   66   -7  1.18   12   44    3   22   \n",
       "7     Nathan MacKinnon  COL  48  20  45   65   22  1.35   12   40    8   25   \n",
       "8       Mark Scheifele  WPG  56  21  42   63   -4  1.13   17   46    4   17   \n",
       "9        Sidney Crosby  PIT  55  24  38   62    8  1.13   18   39    5   22   \n",
       "10          Mark Stone  VGK  55  21  40   61   26  1.11   14   43    6   17   \n",
       "11  Jonathan Huberdeau  FLA  55  20  41   61   12  1.11   15   37    5   24   \n",
       "12   Aleksander Barkov  FLA  50  26  32   58   12  1.16   18   38    7   19   \n",
       "13        David Perron  STL  56  19  39   58    6  1.04   13   37    6   21   \n",
       "14      Artemi Panarin  NYR  42  17  41   58   14  1.38   12   40    5   18   \n",
       "15       Sebastian Aho  CAR  56  24  33   57   16  1.02   14   36    7   18   \n",
       "16       Jake Guentzel  PIT  56  23  34   57    7  1.02   17   38    6   18   \n",
       "17      Alex DeBrincat  CHI  52  32  24   56    3  1.08   22   37    9   18   \n",
       "18       Ryan O'Reilly  STL  56  24  30   54   26  0.96   18   40    4   12   \n",
       "19   Nicklas Backstrom  WSH  55  15  38   53    0  0.96   10   31    5   22   \n",
       "\n",
       "    SHG  SHP  OTG  GWG  \n",
       "0     0    0    2   11  \n",
       "1     1    1    0    8  \n",
       "2     4    7    1    5  \n",
       "3     0    2    0    5  \n",
       "4     0    0    2   12  \n",
       "5     0    0    0    7  \n",
       "6     0    0    0    3  \n",
       "7     0    0    0    2  \n",
       "8     0    0    0    4  \n",
       "9     1    1    2    5  \n",
       "10    1    1    0    8  \n",
       "11    0    0    1    1  \n",
       "12    1    1    2    6  \n",
       "13    0    0    1    2  \n",
       "14    0    0    0    1  \n",
       "15    3    3    1    7  \n",
       "16    0    1    1    7  \n",
       "17    1    1    3    7  \n",
       "18    2    2    2    4  \n",
       "19    0    0    0    0  "
      ],
      "text/html": "<div>\n<style scoped>\n    .dataframe tbody tr th:only-of-type {\n        vertical-align: middle;\n    }\n\n    .dataframe tbody tr th {\n        vertical-align: top;\n    }\n\n    .dataframe thead th {\n        text-align: right;\n    }\n</style>\n<table border=\"1\" class=\"dataframe\">\n  <thead>\n    <tr style=\"text-align: right;\">\n      <th></th>\n      <th>Player</th>\n      <th>Team</th>\n      <th>GP</th>\n      <th>G</th>\n      <th>A</th>\n      <th>P</th>\n      <th>+/-</th>\n      <th>P/GP</th>\n      <th>EVG</th>\n      <th>EVP</th>\n      <th>PPG</th>\n      <th>PPP</th>\n      <th>SHG</th>\n      <th>SHP</th>\n      <th>OTG</th>\n      <th>GWG</th>\n    </tr>\n  </thead>\n  <tbody>\n    <tr>\n      <th>0</th>\n      <td>Connor McDavid</td>\n      <td>EDM</td>\n      <td>56</td>\n      <td>33</td>\n      <td>72</td>\n      <td>105</td>\n      <td>21</td>\n      <td>1.88</td>\n      <td>24</td>\n      <td>68</td>\n      <td>9</td>\n      <td>37</td>\n      <td>0</td>\n      <td>0</td>\n      <td>2</td>\n      <td>11</td>\n    </tr>\n    <tr>\n      <th>1</th>\n      <td>Leon Draisaitl</td>\n      <td>EDM</td>\n      <td>56</td>\n      <td>31</td>\n      <td>53</td>\n      <td>84</td>\n      <td>29</td>\n      <td>1.50</td>\n      <td>15</td>\n      <td>51</td>\n      <td>15</td>\n      <td>32</td>\n      <td>1</td>\n      <td>1</td>\n      <td>0</td>\n      <td>8</td>\n    </tr>\n    <tr>\n      <th>2</th>\n      <td>Brad Marchand</td>\n      <td>BOS</td>\n      <td>53</td>\n      <td>29</td>\n      <td>40</td>\n      <td>69</td>\n      <td>26</td>\n      <td>1.30</td>\n      <td>21</td>\n      <td>44</td>\n      <td>4</td>\n      <td>18</td>\n      <td>4</td>\n      <td>7</td>\n      <td>1</td>\n      <td>5</td>\n    </tr>\n    <tr>\n      <th>3</th>\n      <td>Mitchell Marner</td>\n      <td>TOR</td>\n      <td>55</td>\n      <td>20</td>\n      <td>47</td>\n      <td>67</td>\n      <td>21</td>\n      <td>1.22</td>\n      <td>20</td>\n      <td>51</td>\n      <td>0</td>\n      <td>14</td>\n      <td>0</td>\n      <td>2</td>\n      <td>0</td>\n      <td>5</td>\n    </tr>\n    <tr>\n      <th>4</th>\n      <td>Auston Matthews</td>\n      <td>TOR</td>\n      <td>52</td>\n      <td>41</td>\n      <td>25</td>\n      <td>66</td>\n      <td>21</td>\n      <td>1.27</td>\n      <td>31</td>\n      <td>53</td>\n      <td>10</td>\n      <td>13</td>\n      <td>0</td>\n      <td>0</td>\n      <td>2</td>\n      <td>12</td>\n    </tr>\n    <tr>\n      <th>5</th>\n      <td>Mikko Rantanen</td>\n      <td>COL</td>\n      <td>52</td>\n      <td>30</td>\n      <td>36</td>\n      <td>66</td>\n      <td>30</td>\n      <td>1.27</td>\n      <td>21</td>\n      <td>42</td>\n      <td>9</td>\n      <td>24</td>\n      <td>0</td>\n      <td>0</td>\n      <td>0</td>\n      <td>7</td>\n    </tr>\n    <tr>\n      <th>6</th>\n      <td>Patrick Kane</td>\n      <td>CHI</td>\n      <td>56</td>\n      <td>15</td>\n      <td>51</td>\n      <td>66</td>\n      <td>-7</td>\n      <td>1.18</td>\n      <td>12</td>\n      <td>44</td>\n      <td>3</td>\n      <td>22</td>\n      <td>0</td>\n      <td>0</td>\n      <td>0</td>\n      <td>3</td>\n    </tr>\n    <tr>\n      <th>7</th>\n      <td>Nathan MacKinnon</td>\n      <td>COL</td>\n      <td>48</td>\n      <td>20</td>\n      <td>45</td>\n      <td>65</td>\n      <td>22</td>\n      <td>1.35</td>\n      <td>12</td>\n      <td>40</td>\n      <td>8</td>\n      <td>25</td>\n      <td>0</td>\n      <td>0</td>\n      <td>0</td>\n      <td>2</td>\n    </tr>\n    <tr>\n      <th>8</th>\n      <td>Mark Scheifele</td>\n      <td>WPG</td>\n      <td>56</td>\n      <td>21</td>\n      <td>42</td>\n      <td>63</td>\n      <td>-4</td>\n      <td>1.13</td>\n      <td>17</td>\n      <td>46</td>\n      <td>4</td>\n      <td>17</td>\n      <td>0</td>\n      <td>0</td>\n      <td>0</td>\n      <td>4</td>\n    </tr>\n    <tr>\n      <th>9</th>\n      <td>Sidney Crosby</td>\n      <td>PIT</td>\n      <td>55</td>\n      <td>24</td>\n      <td>38</td>\n      <td>62</td>\n      <td>8</td>\n      <td>1.13</td>\n      <td>18</td>\n      <td>39</td>\n      <td>5</td>\n      <td>22</td>\n      <td>1</td>\n      <td>1</td>\n      <td>2</td>\n      <td>5</td>\n    </tr>\n    <tr>\n      <th>10</th>\n      <td>Mark Stone</td>\n      <td>VGK</td>\n      <td>55</td>\n      <td>21</td>\n      <td>40</td>\n      <td>61</td>\n      <td>26</td>\n      <td>1.11</td>\n      <td>14</td>\n      <td>43</td>\n      <td>6</td>\n      <td>17</td>\n      <td>1</td>\n      <td>1</td>\n      <td>0</td>\n      <td>8</td>\n    </tr>\n    <tr>\n      <th>11</th>\n      <td>Jonathan Huberdeau</td>\n      <td>FLA</td>\n      <td>55</td>\n      <td>20</td>\n      <td>41</td>\n      <td>61</td>\n      <td>12</td>\n      <td>1.11</td>\n      <td>15</td>\n      <td>37</td>\n      <td>5</td>\n      <td>24</td>\n      <td>0</td>\n      <td>0</td>\n      <td>1</td>\n      <td>1</td>\n    </tr>\n    <tr>\n      <th>12</th>\n      <td>Aleksander Barkov</td>\n      <td>FLA</td>\n      <td>50</td>\n      <td>26</td>\n      <td>32</td>\n      <td>58</td>\n      <td>12</td>\n      <td>1.16</td>\n      <td>18</td>\n      <td>38</td>\n      <td>7</td>\n      <td>19</td>\n      <td>1</td>\n      <td>1</td>\n      <td>2</td>\n      <td>6</td>\n    </tr>\n    <tr>\n      <th>13</th>\n      <td>David Perron</td>\n      <td>STL</td>\n      <td>56</td>\n      <td>19</td>\n      <td>39</td>\n      <td>58</td>\n      <td>6</td>\n      <td>1.04</td>\n      <td>13</td>\n      <td>37</td>\n      <td>6</td>\n      <td>21</td>\n      <td>0</td>\n      <td>0</td>\n      <td>1</td>\n      <td>2</td>\n    </tr>\n    <tr>\n      <th>14</th>\n      <td>Artemi Panarin</td>\n      <td>NYR</td>\n      <td>42</td>\n      <td>17</td>\n      <td>41</td>\n      <td>58</td>\n      <td>14</td>\n      <td>1.38</td>\n      <td>12</td>\n      <td>40</td>\n      <td>5</td>\n      <td>18</td>\n      <td>0</td>\n      <td>0</td>\n      <td>0</td>\n      <td>1</td>\n    </tr>\n    <tr>\n      <th>15</th>\n      <td>Sebastian Aho</td>\n      <td>CAR</td>\n      <td>56</td>\n      <td>24</td>\n      <td>33</td>\n      <td>57</td>\n      <td>16</td>\n      <td>1.02</td>\n      <td>14</td>\n      <td>36</td>\n      <td>7</td>\n      <td>18</td>\n      <td>3</td>\n      <td>3</td>\n      <td>1</td>\n      <td>7</td>\n    </tr>\n    <tr>\n      <th>16</th>\n      <td>Jake Guentzel</td>\n      <td>PIT</td>\n      <td>56</td>\n      <td>23</td>\n      <td>34</td>\n      <td>57</td>\n      <td>7</td>\n      <td>1.02</td>\n      <td>17</td>\n      <td>38</td>\n      <td>6</td>\n      <td>18</td>\n      <td>0</td>\n      <td>1</td>\n      <td>1</td>\n      <td>7</td>\n    </tr>\n    <tr>\n      <th>17</th>\n      <td>Alex DeBrincat</td>\n      <td>CHI</td>\n      <td>52</td>\n      <td>32</td>\n      <td>24</td>\n      <td>56</td>\n      <td>3</td>\n      <td>1.08</td>\n      <td>22</td>\n      <td>37</td>\n      <td>9</td>\n      <td>18</td>\n      <td>1</td>\n      <td>1</td>\n      <td>3</td>\n      <td>7</td>\n    </tr>\n    <tr>\n      <th>18</th>\n      <td>Ryan O'Reilly</td>\n      <td>STL</td>\n      <td>56</td>\n      <td>24</td>\n      <td>30</td>\n      <td>54</td>\n      <td>26</td>\n      <td>0.96</td>\n      <td>18</td>\n      <td>40</td>\n      <td>4</td>\n      <td>12</td>\n      <td>2</td>\n      <td>2</td>\n      <td>2</td>\n      <td>4</td>\n    </tr>\n    <tr>\n      <th>19</th>\n      <td>Nicklas Backstrom</td>\n      <td>WSH</td>\n      <td>55</td>\n      <td>15</td>\n      <td>38</td>\n      <td>53</td>\n      <td>0</td>\n      <td>0.96</td>\n      <td>10</td>\n      <td>31</td>\n      <td>5</td>\n      <td>22</td>\n      <td>0</td>\n      <td>0</td>\n      <td>0</td>\n      <td>0</td>\n    </tr>\n  </tbody>\n</table>\n</div>"
     },
     "metadata": {},
     "execution_count": 7
    }
   ],
   "source": [
    "test_df.drop(['Season', 'S/C', 'Pos', 'PIM', 'S', 'S%', 'TOI/GP', 'FOW%'],                  axis=1, inplace=True)\n",
    "test_df"
   ]
  },
  {
   "cell_type": "code",
   "execution_count": 8,
   "metadata": {},
   "outputs": [
    {
     "output_type": "execute_result",
     "data": {
      "text/plain": [
       "                   Team  GP   G   A    P  +/-  P/GP  EVG  EVP  PPG  PPP  SHG  \\\n",
       "Player                                                                         \n",
       "Connor McDavid      EDM  56  33  72  105   21  1.88   24   68    9   37    0   \n",
       "Leon Draisaitl      EDM  56  31  53   84   29  1.50   15   51   15   32    1   \n",
       "Brad Marchand       BOS  53  29  40   69   26  1.30   21   44    4   18    4   \n",
       "Mitchell Marner     TOR  55  20  47   67   21  1.22   20   51    0   14    0   \n",
       "Auston Matthews     TOR  52  41  25   66   21  1.27   31   53   10   13    0   \n",
       "Mikko Rantanen      COL  52  30  36   66   30  1.27   21   42    9   24    0   \n",
       "Patrick Kane        CHI  56  15  51   66   -7  1.18   12   44    3   22    0   \n",
       "Nathan MacKinnon    COL  48  20  45   65   22  1.35   12   40    8   25    0   \n",
       "Mark Scheifele      WPG  56  21  42   63   -4  1.13   17   46    4   17    0   \n",
       "Sidney Crosby       PIT  55  24  38   62    8  1.13   18   39    5   22    1   \n",
       "Mark Stone          VGK  55  21  40   61   26  1.11   14   43    6   17    1   \n",
       "Jonathan Huberdeau  FLA  55  20  41   61   12  1.11   15   37    5   24    0   \n",
       "Aleksander Barkov   FLA  50  26  32   58   12  1.16   18   38    7   19    1   \n",
       "David Perron        STL  56  19  39   58    6  1.04   13   37    6   21    0   \n",
       "Artemi Panarin      NYR  42  17  41   58   14  1.38   12   40    5   18    0   \n",
       "Sebastian Aho       CAR  56  24  33   57   16  1.02   14   36    7   18    3   \n",
       "Jake Guentzel       PIT  56  23  34   57    7  1.02   17   38    6   18    0   \n",
       "Alex DeBrincat      CHI  52  32  24   56    3  1.08   22   37    9   18    1   \n",
       "Ryan O'Reilly       STL  56  24  30   54   26  0.96   18   40    4   12    2   \n",
       "Nicklas Backstrom   WSH  55  15  38   53    0  0.96   10   31    5   22    0   \n",
       "\n",
       "                    SHP  OTG  GWG  \n",
       "Player                             \n",
       "Connor McDavid        0    2   11  \n",
       "Leon Draisaitl        1    0    8  \n",
       "Brad Marchand         7    1    5  \n",
       "Mitchell Marner       2    0    5  \n",
       "Auston Matthews       0    2   12  \n",
       "Mikko Rantanen        0    0    7  \n",
       "Patrick Kane          0    0    3  \n",
       "Nathan MacKinnon      0    0    2  \n",
       "Mark Scheifele        0    0    4  \n",
       "Sidney Crosby         1    2    5  \n",
       "Mark Stone            1    0    8  \n",
       "Jonathan Huberdeau    0    1    1  \n",
       "Aleksander Barkov     1    2    6  \n",
       "David Perron          0    1    2  \n",
       "Artemi Panarin        0    0    1  \n",
       "Sebastian Aho         3    1    7  \n",
       "Jake Guentzel         1    1    7  \n",
       "Alex DeBrincat        1    3    7  \n",
       "Ryan O'Reilly         2    2    4  \n",
       "Nicklas Backstrom     0    0    0  "
      ],
      "text/html": "<div>\n<style scoped>\n    .dataframe tbody tr th:only-of-type {\n        vertical-align: middle;\n    }\n\n    .dataframe tbody tr th {\n        vertical-align: top;\n    }\n\n    .dataframe thead th {\n        text-align: right;\n    }\n</style>\n<table border=\"1\" class=\"dataframe\">\n  <thead>\n    <tr style=\"text-align: right;\">\n      <th></th>\n      <th>Team</th>\n      <th>GP</th>\n      <th>G</th>\n      <th>A</th>\n      <th>P</th>\n      <th>+/-</th>\n      <th>P/GP</th>\n      <th>EVG</th>\n      <th>EVP</th>\n      <th>PPG</th>\n      <th>PPP</th>\n      <th>SHG</th>\n      <th>SHP</th>\n      <th>OTG</th>\n      <th>GWG</th>\n    </tr>\n    <tr>\n      <th>Player</th>\n      <th></th>\n      <th></th>\n      <th></th>\n      <th></th>\n      <th></th>\n      <th></th>\n      <th></th>\n      <th></th>\n      <th></th>\n      <th></th>\n      <th></th>\n      <th></th>\n      <th></th>\n      <th></th>\n      <th></th>\n    </tr>\n  </thead>\n  <tbody>\n    <tr>\n      <th>Connor McDavid</th>\n      <td>EDM</td>\n      <td>56</td>\n      <td>33</td>\n      <td>72</td>\n      <td>105</td>\n      <td>21</td>\n      <td>1.88</td>\n      <td>24</td>\n      <td>68</td>\n      <td>9</td>\n      <td>37</td>\n      <td>0</td>\n      <td>0</td>\n      <td>2</td>\n      <td>11</td>\n    </tr>\n    <tr>\n      <th>Leon Draisaitl</th>\n      <td>EDM</td>\n      <td>56</td>\n      <td>31</td>\n      <td>53</td>\n      <td>84</td>\n      <td>29</td>\n      <td>1.50</td>\n      <td>15</td>\n      <td>51</td>\n      <td>15</td>\n      <td>32</td>\n      <td>1</td>\n      <td>1</td>\n      <td>0</td>\n      <td>8</td>\n    </tr>\n    <tr>\n      <th>Brad Marchand</th>\n      <td>BOS</td>\n      <td>53</td>\n      <td>29</td>\n      <td>40</td>\n      <td>69</td>\n      <td>26</td>\n      <td>1.30</td>\n      <td>21</td>\n      <td>44</td>\n      <td>4</td>\n      <td>18</td>\n      <td>4</td>\n      <td>7</td>\n      <td>1</td>\n      <td>5</td>\n    </tr>\n    <tr>\n      <th>Mitchell Marner</th>\n      <td>TOR</td>\n      <td>55</td>\n      <td>20</td>\n      <td>47</td>\n      <td>67</td>\n      <td>21</td>\n      <td>1.22</td>\n      <td>20</td>\n      <td>51</td>\n      <td>0</td>\n      <td>14</td>\n      <td>0</td>\n      <td>2</td>\n      <td>0</td>\n      <td>5</td>\n    </tr>\n    <tr>\n      <th>Auston Matthews</th>\n      <td>TOR</td>\n      <td>52</td>\n      <td>41</td>\n      <td>25</td>\n      <td>66</td>\n      <td>21</td>\n      <td>1.27</td>\n      <td>31</td>\n      <td>53</td>\n      <td>10</td>\n      <td>13</td>\n      <td>0</td>\n      <td>0</td>\n      <td>2</td>\n      <td>12</td>\n    </tr>\n    <tr>\n      <th>Mikko Rantanen</th>\n      <td>COL</td>\n      <td>52</td>\n      <td>30</td>\n      <td>36</td>\n      <td>66</td>\n      <td>30</td>\n      <td>1.27</td>\n      <td>21</td>\n      <td>42</td>\n      <td>9</td>\n      <td>24</td>\n      <td>0</td>\n      <td>0</td>\n      <td>0</td>\n      <td>7</td>\n    </tr>\n    <tr>\n      <th>Patrick Kane</th>\n      <td>CHI</td>\n      <td>56</td>\n      <td>15</td>\n      <td>51</td>\n      <td>66</td>\n      <td>-7</td>\n      <td>1.18</td>\n      <td>12</td>\n      <td>44</td>\n      <td>3</td>\n      <td>22</td>\n      <td>0</td>\n      <td>0</td>\n      <td>0</td>\n      <td>3</td>\n    </tr>\n    <tr>\n      <th>Nathan MacKinnon</th>\n      <td>COL</td>\n      <td>48</td>\n      <td>20</td>\n      <td>45</td>\n      <td>65</td>\n      <td>22</td>\n      <td>1.35</td>\n      <td>12</td>\n      <td>40</td>\n      <td>8</td>\n      <td>25</td>\n      <td>0</td>\n      <td>0</td>\n      <td>0</td>\n      <td>2</td>\n    </tr>\n    <tr>\n      <th>Mark Scheifele</th>\n      <td>WPG</td>\n      <td>56</td>\n      <td>21</td>\n      <td>42</td>\n      <td>63</td>\n      <td>-4</td>\n      <td>1.13</td>\n      <td>17</td>\n      <td>46</td>\n      <td>4</td>\n      <td>17</td>\n      <td>0</td>\n      <td>0</td>\n      <td>0</td>\n      <td>4</td>\n    </tr>\n    <tr>\n      <th>Sidney Crosby</th>\n      <td>PIT</td>\n      <td>55</td>\n      <td>24</td>\n      <td>38</td>\n      <td>62</td>\n      <td>8</td>\n      <td>1.13</td>\n      <td>18</td>\n      <td>39</td>\n      <td>5</td>\n      <td>22</td>\n      <td>1</td>\n      <td>1</td>\n      <td>2</td>\n      <td>5</td>\n    </tr>\n    <tr>\n      <th>Mark Stone</th>\n      <td>VGK</td>\n      <td>55</td>\n      <td>21</td>\n      <td>40</td>\n      <td>61</td>\n      <td>26</td>\n      <td>1.11</td>\n      <td>14</td>\n      <td>43</td>\n      <td>6</td>\n      <td>17</td>\n      <td>1</td>\n      <td>1</td>\n      <td>0</td>\n      <td>8</td>\n    </tr>\n    <tr>\n      <th>Jonathan Huberdeau</th>\n      <td>FLA</td>\n      <td>55</td>\n      <td>20</td>\n      <td>41</td>\n      <td>61</td>\n      <td>12</td>\n      <td>1.11</td>\n      <td>15</td>\n      <td>37</td>\n      <td>5</td>\n      <td>24</td>\n      <td>0</td>\n      <td>0</td>\n      <td>1</td>\n      <td>1</td>\n    </tr>\n    <tr>\n      <th>Aleksander Barkov</th>\n      <td>FLA</td>\n      <td>50</td>\n      <td>26</td>\n      <td>32</td>\n      <td>58</td>\n      <td>12</td>\n      <td>1.16</td>\n      <td>18</td>\n      <td>38</td>\n      <td>7</td>\n      <td>19</td>\n      <td>1</td>\n      <td>1</td>\n      <td>2</td>\n      <td>6</td>\n    </tr>\n    <tr>\n      <th>David Perron</th>\n      <td>STL</td>\n      <td>56</td>\n      <td>19</td>\n      <td>39</td>\n      <td>58</td>\n      <td>6</td>\n      <td>1.04</td>\n      <td>13</td>\n      <td>37</td>\n      <td>6</td>\n      <td>21</td>\n      <td>0</td>\n      <td>0</td>\n      <td>1</td>\n      <td>2</td>\n    </tr>\n    <tr>\n      <th>Artemi Panarin</th>\n      <td>NYR</td>\n      <td>42</td>\n      <td>17</td>\n      <td>41</td>\n      <td>58</td>\n      <td>14</td>\n      <td>1.38</td>\n      <td>12</td>\n      <td>40</td>\n      <td>5</td>\n      <td>18</td>\n      <td>0</td>\n      <td>0</td>\n      <td>0</td>\n      <td>1</td>\n    </tr>\n    <tr>\n      <th>Sebastian Aho</th>\n      <td>CAR</td>\n      <td>56</td>\n      <td>24</td>\n      <td>33</td>\n      <td>57</td>\n      <td>16</td>\n      <td>1.02</td>\n      <td>14</td>\n      <td>36</td>\n      <td>7</td>\n      <td>18</td>\n      <td>3</td>\n      <td>3</td>\n      <td>1</td>\n      <td>7</td>\n    </tr>\n    <tr>\n      <th>Jake Guentzel</th>\n      <td>PIT</td>\n      <td>56</td>\n      <td>23</td>\n      <td>34</td>\n      <td>57</td>\n      <td>7</td>\n      <td>1.02</td>\n      <td>17</td>\n      <td>38</td>\n      <td>6</td>\n      <td>18</td>\n      <td>0</td>\n      <td>1</td>\n      <td>1</td>\n      <td>7</td>\n    </tr>\n    <tr>\n      <th>Alex DeBrincat</th>\n      <td>CHI</td>\n      <td>52</td>\n      <td>32</td>\n      <td>24</td>\n      <td>56</td>\n      <td>3</td>\n      <td>1.08</td>\n      <td>22</td>\n      <td>37</td>\n      <td>9</td>\n      <td>18</td>\n      <td>1</td>\n      <td>1</td>\n      <td>3</td>\n      <td>7</td>\n    </tr>\n    <tr>\n      <th>Ryan O'Reilly</th>\n      <td>STL</td>\n      <td>56</td>\n      <td>24</td>\n      <td>30</td>\n      <td>54</td>\n      <td>26</td>\n      <td>0.96</td>\n      <td>18</td>\n      <td>40</td>\n      <td>4</td>\n      <td>12</td>\n      <td>2</td>\n      <td>2</td>\n      <td>2</td>\n      <td>4</td>\n    </tr>\n    <tr>\n      <th>Nicklas Backstrom</th>\n      <td>WSH</td>\n      <td>55</td>\n      <td>15</td>\n      <td>38</td>\n      <td>53</td>\n      <td>0</td>\n      <td>0.96</td>\n      <td>10</td>\n      <td>31</td>\n      <td>5</td>\n      <td>22</td>\n      <td>0</td>\n      <td>0</td>\n      <td>0</td>\n      <td>0</td>\n    </tr>\n  </tbody>\n</table>\n</div>"
     },
     "metadata": {},
     "execution_count": 8
    }
   ],
   "source": [
    "test_df.set_index('Player')"
   ]
  },
  {
   "cell_type": "code",
   "execution_count": 13,
   "metadata": {},
   "outputs": [
    {
     "output_type": "display_data",
     "data": {
      "application/vnd.plotly.v1+json": {
       "config": {
        "plotlyServerURL": "https://plot.ly"
       },
       "data": [
        {
         "branchvalues": "total",
         "domain": {
          "x": [
           0,
           1
          ],
          "y": [
           0,
           1
          ]
         },
         "hovertemplate": "labels=%{label}<br>P=%{value}<br>parent=%{parent}<br>id=%{id}<extra></extra>",
         "ids": [
          "NYR/Adam Fox",
          "FLA/Aleksander Barkov",
          "CHI/Alex DeBrincat",
          "COL/Andre Burakovsky",
          "LAK/Anze Kopitar",
          "NYR/Artemi Panarin",
          "TOR/Auston Matthews",
          "WPG/Blake Wheeler",
          "BOS/Brad Marchand",
          "TBL/Brayden Point",
          "VAN/Brock Boeser",
          "EDM/Connor McDavid",
          "BOS/David Pastrnak",
          "STL/David Perron",
          "CGY/Elias Lindholm",
          "SJS/Evander Kane",
          "COL/Gabriel Landeskog",
          "PIT/Jake Guentzel",
          "DAL/Jason Robertson",
          "DAL/Joe Pavelski",
          "TOR/John Tavares",
          "CGY/Johnny Gaudreau",
          "FLA/Jonathan Huberdeau",
          "VGK/Jonathan Marchessault",
          "MIN/Kirill Kaprizov",
          "PIT/Kris Letang",
          "WPG/Kyle Connor",
          "EDM/Leon Draisaitl",
          "WPG/Mark Scheifele",
          "VGK/Mark Stone",
          "NYI/Mathew Barzal",
          "VGK/Max Pacioretty",
          "NYR/Mika Zibanejad",
          "COL/Mikko Rantanen",
          "TOR/Mitchell Marner",
          "COL/Nathan MacKinnon",
          "WSH/Nicklas Backstrom",
          "WPG/Nikolaj Ehlers",
          "CBJ/Oliver Bjorkstrand",
          "TBL/Ondrej Palat",
          "BOS/Patrice Bergeron",
          "CHI/Patrick Kane",
          "NYR/Pavel Buchnevich",
          "STL/Ryan O'Reilly",
          "NYR/Ryan Strome",
          "CAR/Sebastian Aho",
          "PIT/Sidney Crosby",
          "MTL/Tyler Toffoli",
          "EDM/Tyson Barrie",
          "TBL/Victor Hedman",
          "BOS",
          "CAR",
          "CBJ",
          "CGY",
          "CHI",
          "COL",
          "DAL",
          "EDM",
          "FLA",
          "LAK",
          "MIN",
          "MTL",
          "NYI",
          "NYR",
          "PIT",
          "SJS",
          "STL",
          "TBL",
          "TOR",
          "VAN",
          "VGK",
          "WPG",
          "WSH"
         ],
         "labels": [
          "Adam Fox",
          "Aleksander Barkov",
          "Alex DeBrincat",
          "Andre Burakovsky",
          "Anze Kopitar",
          "Artemi Panarin",
          "Auston Matthews",
          "Blake Wheeler",
          "Brad Marchand",
          "Brayden Point",
          "Brock Boeser",
          "Connor McDavid",
          "David Pastrnak",
          "David Perron",
          "Elias Lindholm",
          "Evander Kane",
          "Gabriel Landeskog",
          "Jake Guentzel",
          "Jason Robertson",
          "Joe Pavelski",
          "John Tavares",
          "Johnny Gaudreau",
          "Jonathan Huberdeau",
          "Jonathan Marchessault",
          "Kirill Kaprizov",
          "Kris Letang",
          "Kyle Connor",
          "Leon Draisaitl",
          "Mark Scheifele",
          "Mark Stone",
          "Mathew Barzal",
          "Max Pacioretty",
          "Mika Zibanejad",
          "Mikko Rantanen",
          "Mitchell Marner",
          "Nathan MacKinnon",
          "Nicklas Backstrom",
          "Nikolaj Ehlers",
          "Oliver Bjorkstrand",
          "Ondrej Palat",
          "Patrice Bergeron",
          "Patrick Kane",
          "Pavel Buchnevich",
          "Ryan O'Reilly",
          "Ryan Strome",
          "Sebastian Aho",
          "Sidney Crosby",
          "Tyler Toffoli",
          "Tyson Barrie",
          "Victor Hedman",
          "BOS",
          "CAR",
          "CBJ",
          "CGY",
          "CHI",
          "COL",
          "DAL",
          "EDM",
          "FLA",
          "LAK",
          "MIN",
          "MTL",
          "NYI",
          "NYR",
          "PIT",
          "SJS",
          "STL",
          "TBL",
          "TOR",
          "VAN",
          "VGK",
          "WPG",
          "WSH"
         ],
         "name": "",
         "parents": [
          "NYR",
          "FLA",
          "CHI",
          "COL",
          "LAK",
          "NYR",
          "TOR",
          "WPG",
          "BOS",
          "TBL",
          "VAN",
          "EDM",
          "BOS",
          "STL",
          "CGY",
          "SJS",
          "COL",
          "PIT",
          "DAL",
          "DAL",
          "TOR",
          "CGY",
          "FLA",
          "VGK",
          "MIN",
          "PIT",
          "WPG",
          "EDM",
          "WPG",
          "VGK",
          "NYI",
          "VGK",
          "NYR",
          "COL",
          "TOR",
          "COL",
          "WSH",
          "WPG",
          "CBJ",
          "TBL",
          "BOS",
          "CHI",
          "NYR",
          "STL",
          "NYR",
          "CAR",
          "PIT",
          "MTL",
          "EDM",
          "TBL",
          "",
          "",
          "",
          "",
          "",
          "",
          "",
          "",
          "",
          "",
          "",
          "",
          "",
          "",
          "",
          "",
          "",
          "",
          "",
          "",
          "",
          "",
          ""
         ],
         "type": "sunburst",
         "values": [
          47,
          58,
          56,
          44,
          50,
          58,
          66,
          46,
          69,
          48,
          45,
          105,
          48,
          58,
          47,
          49,
          52,
          57,
          45,
          51,
          50,
          45,
          61,
          44,
          51,
          45,
          50,
          84,
          63,
          61,
          45,
          51,
          50,
          66,
          67,
          65,
          53,
          46,
          44,
          46,
          48,
          66,
          48,
          54,
          49,
          57,
          62,
          44,
          48,
          45,
          165,
          57,
          44,
          92,
          122,
          227,
          96,
          237,
          119,
          50,
          51,
          44,
          45,
          252,
          164,
          49,
          112,
          139,
          183,
          45,
          156,
          205,
          53
         ]
        }
       ],
       "layout": {
        "legend": {
         "tracegroupgap": 0
        },
        "margin": {
         "t": 60
        },
        "template": {
         "data": {
          "bar": [
           {
            "error_x": {
             "color": "#2a3f5f"
            },
            "error_y": {
             "color": "#2a3f5f"
            },
            "marker": {
             "line": {
              "color": "#E5ECF6",
              "width": 0.5
             }
            },
            "type": "bar"
           }
          ],
          "barpolar": [
           {
            "marker": {
             "line": {
              "color": "#E5ECF6",
              "width": 0.5
             }
            },
            "type": "barpolar"
           }
          ],
          "carpet": [
           {
            "aaxis": {
             "endlinecolor": "#2a3f5f",
             "gridcolor": "white",
             "linecolor": "white",
             "minorgridcolor": "white",
             "startlinecolor": "#2a3f5f"
            },
            "baxis": {
             "endlinecolor": "#2a3f5f",
             "gridcolor": "white",
             "linecolor": "white",
             "minorgridcolor": "white",
             "startlinecolor": "#2a3f5f"
            },
            "type": "carpet"
           }
          ],
          "choropleth": [
           {
            "colorbar": {
             "outlinewidth": 0,
             "ticks": ""
            },
            "type": "choropleth"
           }
          ],
          "contour": [
           {
            "colorbar": {
             "outlinewidth": 0,
             "ticks": ""
            },
            "colorscale": [
             [
              0,
              "#0d0887"
             ],
             [
              0.1111111111111111,
              "#46039f"
             ],
             [
              0.2222222222222222,
              "#7201a8"
             ],
             [
              0.3333333333333333,
              "#9c179e"
             ],
             [
              0.4444444444444444,
              "#bd3786"
             ],
             [
              0.5555555555555556,
              "#d8576b"
             ],
             [
              0.6666666666666666,
              "#ed7953"
             ],
             [
              0.7777777777777778,
              "#fb9f3a"
             ],
             [
              0.8888888888888888,
              "#fdca26"
             ],
             [
              1,
              "#f0f921"
             ]
            ],
            "type": "contour"
           }
          ],
          "contourcarpet": [
           {
            "colorbar": {
             "outlinewidth": 0,
             "ticks": ""
            },
            "type": "contourcarpet"
           }
          ],
          "heatmap": [
           {
            "colorbar": {
             "outlinewidth": 0,
             "ticks": ""
            },
            "colorscale": [
             [
              0,
              "#0d0887"
             ],
             [
              0.1111111111111111,
              "#46039f"
             ],
             [
              0.2222222222222222,
              "#7201a8"
             ],
             [
              0.3333333333333333,
              "#9c179e"
             ],
             [
              0.4444444444444444,
              "#bd3786"
             ],
             [
              0.5555555555555556,
              "#d8576b"
             ],
             [
              0.6666666666666666,
              "#ed7953"
             ],
             [
              0.7777777777777778,
              "#fb9f3a"
             ],
             [
              0.8888888888888888,
              "#fdca26"
             ],
             [
              1,
              "#f0f921"
             ]
            ],
            "type": "heatmap"
           }
          ],
          "heatmapgl": [
           {
            "colorbar": {
             "outlinewidth": 0,
             "ticks": ""
            },
            "colorscale": [
             [
              0,
              "#0d0887"
             ],
             [
              0.1111111111111111,
              "#46039f"
             ],
             [
              0.2222222222222222,
              "#7201a8"
             ],
             [
              0.3333333333333333,
              "#9c179e"
             ],
             [
              0.4444444444444444,
              "#bd3786"
             ],
             [
              0.5555555555555556,
              "#d8576b"
             ],
             [
              0.6666666666666666,
              "#ed7953"
             ],
             [
              0.7777777777777778,
              "#fb9f3a"
             ],
             [
              0.8888888888888888,
              "#fdca26"
             ],
             [
              1,
              "#f0f921"
             ]
            ],
            "type": "heatmapgl"
           }
          ],
          "histogram": [
           {
            "marker": {
             "colorbar": {
              "outlinewidth": 0,
              "ticks": ""
             }
            },
            "type": "histogram"
           }
          ],
          "histogram2d": [
           {
            "colorbar": {
             "outlinewidth": 0,
             "ticks": ""
            },
            "colorscale": [
             [
              0,
              "#0d0887"
             ],
             [
              0.1111111111111111,
              "#46039f"
             ],
             [
              0.2222222222222222,
              "#7201a8"
             ],
             [
              0.3333333333333333,
              "#9c179e"
             ],
             [
              0.4444444444444444,
              "#bd3786"
             ],
             [
              0.5555555555555556,
              "#d8576b"
             ],
             [
              0.6666666666666666,
              "#ed7953"
             ],
             [
              0.7777777777777778,
              "#fb9f3a"
             ],
             [
              0.8888888888888888,
              "#fdca26"
             ],
             [
              1,
              "#f0f921"
             ]
            ],
            "type": "histogram2d"
           }
          ],
          "histogram2dcontour": [
           {
            "colorbar": {
             "outlinewidth": 0,
             "ticks": ""
            },
            "colorscale": [
             [
              0,
              "#0d0887"
             ],
             [
              0.1111111111111111,
              "#46039f"
             ],
             [
              0.2222222222222222,
              "#7201a8"
             ],
             [
              0.3333333333333333,
              "#9c179e"
             ],
             [
              0.4444444444444444,
              "#bd3786"
             ],
             [
              0.5555555555555556,
              "#d8576b"
             ],
             [
              0.6666666666666666,
              "#ed7953"
             ],
             [
              0.7777777777777778,
              "#fb9f3a"
             ],
             [
              0.8888888888888888,
              "#fdca26"
             ],
             [
              1,
              "#f0f921"
             ]
            ],
            "type": "histogram2dcontour"
           }
          ],
          "mesh3d": [
           {
            "colorbar": {
             "outlinewidth": 0,
             "ticks": ""
            },
            "type": "mesh3d"
           }
          ],
          "parcoords": [
           {
            "line": {
             "colorbar": {
              "outlinewidth": 0,
              "ticks": ""
             }
            },
            "type": "parcoords"
           }
          ],
          "pie": [
           {
            "automargin": true,
            "type": "pie"
           }
          ],
          "scatter": [
           {
            "marker": {
             "colorbar": {
              "outlinewidth": 0,
              "ticks": ""
             }
            },
            "type": "scatter"
           }
          ],
          "scatter3d": [
           {
            "line": {
             "colorbar": {
              "outlinewidth": 0,
              "ticks": ""
             }
            },
            "marker": {
             "colorbar": {
              "outlinewidth": 0,
              "ticks": ""
             }
            },
            "type": "scatter3d"
           }
          ],
          "scattercarpet": [
           {
            "marker": {
             "colorbar": {
              "outlinewidth": 0,
              "ticks": ""
             }
            },
            "type": "scattercarpet"
           }
          ],
          "scattergeo": [
           {
            "marker": {
             "colorbar": {
              "outlinewidth": 0,
              "ticks": ""
             }
            },
            "type": "scattergeo"
           }
          ],
          "scattergl": [
           {
            "marker": {
             "colorbar": {
              "outlinewidth": 0,
              "ticks": ""
             }
            },
            "type": "scattergl"
           }
          ],
          "scattermapbox": [
           {
            "marker": {
             "colorbar": {
              "outlinewidth": 0,
              "ticks": ""
             }
            },
            "type": "scattermapbox"
           }
          ],
          "scatterpolar": [
           {
            "marker": {
             "colorbar": {
              "outlinewidth": 0,
              "ticks": ""
             }
            },
            "type": "scatterpolar"
           }
          ],
          "scatterpolargl": [
           {
            "marker": {
             "colorbar": {
              "outlinewidth": 0,
              "ticks": ""
             }
            },
            "type": "scatterpolargl"
           }
          ],
          "scatterternary": [
           {
            "marker": {
             "colorbar": {
              "outlinewidth": 0,
              "ticks": ""
             }
            },
            "type": "scatterternary"
           }
          ],
          "surface": [
           {
            "colorbar": {
             "outlinewidth": 0,
             "ticks": ""
            },
            "colorscale": [
             [
              0,
              "#0d0887"
             ],
             [
              0.1111111111111111,
              "#46039f"
             ],
             [
              0.2222222222222222,
              "#7201a8"
             ],
             [
              0.3333333333333333,
              "#9c179e"
             ],
             [
              0.4444444444444444,
              "#bd3786"
             ],
             [
              0.5555555555555556,
              "#d8576b"
             ],
             [
              0.6666666666666666,
              "#ed7953"
             ],
             [
              0.7777777777777778,
              "#fb9f3a"
             ],
             [
              0.8888888888888888,
              "#fdca26"
             ],
             [
              1,
              "#f0f921"
             ]
            ],
            "type": "surface"
           }
          ],
          "table": [
           {
            "cells": {
             "fill": {
              "color": "#EBF0F8"
             },
             "line": {
              "color": "white"
             }
            },
            "header": {
             "fill": {
              "color": "#C8D4E3"
             },
             "line": {
              "color": "white"
             }
            },
            "type": "table"
           }
          ]
         },
         "layout": {
          "annotationdefaults": {
           "arrowcolor": "#2a3f5f",
           "arrowhead": 0,
           "arrowwidth": 1
          },
          "autotypenumbers": "strict",
          "coloraxis": {
           "colorbar": {
            "outlinewidth": 0,
            "ticks": ""
           }
          },
          "colorscale": {
           "diverging": [
            [
             0,
             "#8e0152"
            ],
            [
             0.1,
             "#c51b7d"
            ],
            [
             0.2,
             "#de77ae"
            ],
            [
             0.3,
             "#f1b6da"
            ],
            [
             0.4,
             "#fde0ef"
            ],
            [
             0.5,
             "#f7f7f7"
            ],
            [
             0.6,
             "#e6f5d0"
            ],
            [
             0.7,
             "#b8e186"
            ],
            [
             0.8,
             "#7fbc41"
            ],
            [
             0.9,
             "#4d9221"
            ],
            [
             1,
             "#276419"
            ]
           ],
           "sequential": [
            [
             0,
             "#0d0887"
            ],
            [
             0.1111111111111111,
             "#46039f"
            ],
            [
             0.2222222222222222,
             "#7201a8"
            ],
            [
             0.3333333333333333,
             "#9c179e"
            ],
            [
             0.4444444444444444,
             "#bd3786"
            ],
            [
             0.5555555555555556,
             "#d8576b"
            ],
            [
             0.6666666666666666,
             "#ed7953"
            ],
            [
             0.7777777777777778,
             "#fb9f3a"
            ],
            [
             0.8888888888888888,
             "#fdca26"
            ],
            [
             1,
             "#f0f921"
            ]
           ],
           "sequentialminus": [
            [
             0,
             "#0d0887"
            ],
            [
             0.1111111111111111,
             "#46039f"
            ],
            [
             0.2222222222222222,
             "#7201a8"
            ],
            [
             0.3333333333333333,
             "#9c179e"
            ],
            [
             0.4444444444444444,
             "#bd3786"
            ],
            [
             0.5555555555555556,
             "#d8576b"
            ],
            [
             0.6666666666666666,
             "#ed7953"
            ],
            [
             0.7777777777777778,
             "#fb9f3a"
            ],
            [
             0.8888888888888888,
             "#fdca26"
            ],
            [
             1,
             "#f0f921"
            ]
           ]
          },
          "colorway": [
           "#636efa",
           "#EF553B",
           "#00cc96",
           "#ab63fa",
           "#FFA15A",
           "#19d3f3",
           "#FF6692",
           "#B6E880",
           "#FF97FF",
           "#FECB52"
          ],
          "font": {
           "color": "#2a3f5f"
          },
          "geo": {
           "bgcolor": "white",
           "lakecolor": "white",
           "landcolor": "#E5ECF6",
           "showlakes": true,
           "showland": true,
           "subunitcolor": "white"
          },
          "hoverlabel": {
           "align": "left"
          },
          "hovermode": "closest",
          "mapbox": {
           "style": "light"
          },
          "paper_bgcolor": "white",
          "plot_bgcolor": "#E5ECF6",
          "polar": {
           "angularaxis": {
            "gridcolor": "white",
            "linecolor": "white",
            "ticks": ""
           },
           "bgcolor": "#E5ECF6",
           "radialaxis": {
            "gridcolor": "white",
            "linecolor": "white",
            "ticks": ""
           }
          },
          "scene": {
           "xaxis": {
            "backgroundcolor": "#E5ECF6",
            "gridcolor": "white",
            "gridwidth": 2,
            "linecolor": "white",
            "showbackground": true,
            "ticks": "",
            "zerolinecolor": "white"
           },
           "yaxis": {
            "backgroundcolor": "#E5ECF6",
            "gridcolor": "white",
            "gridwidth": 2,
            "linecolor": "white",
            "showbackground": true,
            "ticks": "",
            "zerolinecolor": "white"
           },
           "zaxis": {
            "backgroundcolor": "#E5ECF6",
            "gridcolor": "white",
            "gridwidth": 2,
            "linecolor": "white",
            "showbackground": true,
            "ticks": "",
            "zerolinecolor": "white"
           }
          },
          "shapedefaults": {
           "line": {
            "color": "#2a3f5f"
           }
          },
          "ternary": {
           "aaxis": {
            "gridcolor": "white",
            "linecolor": "white",
            "ticks": ""
           },
           "baxis": {
            "gridcolor": "white",
            "linecolor": "white",
            "ticks": ""
           },
           "bgcolor": "#E5ECF6",
           "caxis": {
            "gridcolor": "white",
            "linecolor": "white",
            "ticks": ""
           }
          },
          "title": {
           "x": 0.05
          },
          "xaxis": {
           "automargin": true,
           "gridcolor": "white",
           "linecolor": "white",
           "ticks": "",
           "title": {
            "standoff": 15
           },
           "zerolinecolor": "white",
           "zerolinewidth": 2
          },
          "yaxis": {
           "automargin": true,
           "gridcolor": "white",
           "linecolor": "white",
           "ticks": "",
           "title": {
            "standoff": 15
           },
           "zerolinecolor": "white",
           "zerolinewidth": 2
          }
         }
        }
       }
      }
     },
     "metadata": {}
    }
   ],
   "source": [
    "fig = px.sunburst(skaters, path=['Team','Player'], values='P')\n",
    "fig.show()"
   ]
  },
  {
   "source": [
    "## USING BAR GRAPHS:"
   ],
   "cell_type": "markdown",
   "metadata": {}
  },
  {
   "cell_type": "code",
   "execution_count": 12,
   "metadata": {},
   "outputs": [
    {
     "output_type": "display_data",
     "data": {
      "application/vnd.plotly.v1+json": {
       "config": {
        "plotlyServerURL": "https://plot.ly"
       },
       "data": [
        {
         "alignmentgroup": "True",
         "hovertemplate": "variable=A<br>Player=%{x}<br>value=%{y}<extra></extra>",
         "legendgroup": "A",
         "marker": {
          "color": "blue"
         },
         "name": "A",
         "offsetgroup": "A",
         "orientation": "v",
         "showlegend": true,
         "textposition": "auto",
         "type": "bar",
         "x": [
          "Connor McDavid",
          "Leon Draisaitl",
          "Brad Marchand",
          "Mitchell Marner",
          "Auston Matthews",
          "Mikko Rantanen",
          "Patrick Kane",
          "Nathan MacKinnon",
          "Mark Scheifele",
          "Sidney Crosby",
          "Mark Stone",
          "Jonathan Huberdeau",
          "Aleksander Barkov",
          "David Perron",
          "Artemi Panarin",
          "Sebastian Aho",
          "Jake Guentzel",
          "Alex DeBrincat",
          "Ryan O'Reilly",
          "Nicklas Backstrom"
         ],
         "xaxis": "x",
         "y": [
          72,
          53,
          40,
          47,
          25,
          36,
          51,
          45,
          42,
          38,
          40,
          41,
          32,
          39,
          41,
          33,
          34,
          24,
          30,
          38
         ],
         "yaxis": "y"
        },
        {
         "alignmentgroup": "True",
         "hovertemplate": "variable=EVG<br>Player=%{x}<br>value=%{y}<extra></extra>",
         "legendgroup": "EVG",
         "marker": {
          "color": "red"
         },
         "name": "EVG",
         "offsetgroup": "EVG",
         "orientation": "v",
         "showlegend": true,
         "textposition": "auto",
         "type": "bar",
         "x": [
          "Connor McDavid",
          "Leon Draisaitl",
          "Brad Marchand",
          "Mitchell Marner",
          "Auston Matthews",
          "Mikko Rantanen",
          "Patrick Kane",
          "Nathan MacKinnon",
          "Mark Scheifele",
          "Sidney Crosby",
          "Mark Stone",
          "Jonathan Huberdeau",
          "Aleksander Barkov",
          "David Perron",
          "Artemi Panarin",
          "Sebastian Aho",
          "Jake Guentzel",
          "Alex DeBrincat",
          "Ryan O'Reilly",
          "Nicklas Backstrom"
         ],
         "xaxis": "x",
         "y": [
          24,
          15,
          21,
          20,
          31,
          21,
          12,
          12,
          17,
          18,
          14,
          15,
          18,
          13,
          12,
          14,
          17,
          22,
          18,
          10
         ],
         "yaxis": "y"
        },
        {
         "alignmentgroup": "True",
         "hovertemplate": "variable=PPG<br>Player=%{x}<br>value=%{y}<extra></extra>",
         "legendgroup": "PPG",
         "marker": {
          "color": "red"
         },
         "name": "PPG",
         "offsetgroup": "PPG",
         "orientation": "v",
         "showlegend": true,
         "textposition": "auto",
         "type": "bar",
         "x": [
          "Connor McDavid",
          "Leon Draisaitl",
          "Brad Marchand",
          "Mitchell Marner",
          "Auston Matthews",
          "Mikko Rantanen",
          "Patrick Kane",
          "Nathan MacKinnon",
          "Mark Scheifele",
          "Sidney Crosby",
          "Mark Stone",
          "Jonathan Huberdeau",
          "Aleksander Barkov",
          "David Perron",
          "Artemi Panarin",
          "Sebastian Aho",
          "Jake Guentzel",
          "Alex DeBrincat",
          "Ryan O'Reilly",
          "Nicklas Backstrom"
         ],
         "xaxis": "x",
         "y": [
          9,
          15,
          4,
          0,
          10,
          9,
          3,
          8,
          4,
          5,
          6,
          5,
          7,
          6,
          5,
          7,
          6,
          9,
          4,
          5
         ],
         "yaxis": "y"
        }
       ],
       "layout": {
        "barmode": "relative",
        "legend": {
         "title": {
          "text": "variable"
         },
         "tracegroupgap": 0
        },
        "template": {
         "data": {
          "bar": [
           {
            "error_x": {
             "color": "#2a3f5f"
            },
            "error_y": {
             "color": "#2a3f5f"
            },
            "marker": {
             "line": {
              "color": "#E5ECF6",
              "width": 0.5
             }
            },
            "type": "bar"
           }
          ],
          "barpolar": [
           {
            "marker": {
             "line": {
              "color": "#E5ECF6",
              "width": 0.5
             }
            },
            "type": "barpolar"
           }
          ],
          "carpet": [
           {
            "aaxis": {
             "endlinecolor": "#2a3f5f",
             "gridcolor": "white",
             "linecolor": "white",
             "minorgridcolor": "white",
             "startlinecolor": "#2a3f5f"
            },
            "baxis": {
             "endlinecolor": "#2a3f5f",
             "gridcolor": "white",
             "linecolor": "white",
             "minorgridcolor": "white",
             "startlinecolor": "#2a3f5f"
            },
            "type": "carpet"
           }
          ],
          "choropleth": [
           {
            "colorbar": {
             "outlinewidth": 0,
             "ticks": ""
            },
            "type": "choropleth"
           }
          ],
          "contour": [
           {
            "colorbar": {
             "outlinewidth": 0,
             "ticks": ""
            },
            "colorscale": [
             [
              0,
              "#0d0887"
             ],
             [
              0.1111111111111111,
              "#46039f"
             ],
             [
              0.2222222222222222,
              "#7201a8"
             ],
             [
              0.3333333333333333,
              "#9c179e"
             ],
             [
              0.4444444444444444,
              "#bd3786"
             ],
             [
              0.5555555555555556,
              "#d8576b"
             ],
             [
              0.6666666666666666,
              "#ed7953"
             ],
             [
              0.7777777777777778,
              "#fb9f3a"
             ],
             [
              0.8888888888888888,
              "#fdca26"
             ],
             [
              1,
              "#f0f921"
             ]
            ],
            "type": "contour"
           }
          ],
          "contourcarpet": [
           {
            "colorbar": {
             "outlinewidth": 0,
             "ticks": ""
            },
            "type": "contourcarpet"
           }
          ],
          "heatmap": [
           {
            "colorbar": {
             "outlinewidth": 0,
             "ticks": ""
            },
            "colorscale": [
             [
              0,
              "#0d0887"
             ],
             [
              0.1111111111111111,
              "#46039f"
             ],
             [
              0.2222222222222222,
              "#7201a8"
             ],
             [
              0.3333333333333333,
              "#9c179e"
             ],
             [
              0.4444444444444444,
              "#bd3786"
             ],
             [
              0.5555555555555556,
              "#d8576b"
             ],
             [
              0.6666666666666666,
              "#ed7953"
             ],
             [
              0.7777777777777778,
              "#fb9f3a"
             ],
             [
              0.8888888888888888,
              "#fdca26"
             ],
             [
              1,
              "#f0f921"
             ]
            ],
            "type": "heatmap"
           }
          ],
          "heatmapgl": [
           {
            "colorbar": {
             "outlinewidth": 0,
             "ticks": ""
            },
            "colorscale": [
             [
              0,
              "#0d0887"
             ],
             [
              0.1111111111111111,
              "#46039f"
             ],
             [
              0.2222222222222222,
              "#7201a8"
             ],
             [
              0.3333333333333333,
              "#9c179e"
             ],
             [
              0.4444444444444444,
              "#bd3786"
             ],
             [
              0.5555555555555556,
              "#d8576b"
             ],
             [
              0.6666666666666666,
              "#ed7953"
             ],
             [
              0.7777777777777778,
              "#fb9f3a"
             ],
             [
              0.8888888888888888,
              "#fdca26"
             ],
             [
              1,
              "#f0f921"
             ]
            ],
            "type": "heatmapgl"
           }
          ],
          "histogram": [
           {
            "marker": {
             "colorbar": {
              "outlinewidth": 0,
              "ticks": ""
             }
            },
            "type": "histogram"
           }
          ],
          "histogram2d": [
           {
            "colorbar": {
             "outlinewidth": 0,
             "ticks": ""
            },
            "colorscale": [
             [
              0,
              "#0d0887"
             ],
             [
              0.1111111111111111,
              "#46039f"
             ],
             [
              0.2222222222222222,
              "#7201a8"
             ],
             [
              0.3333333333333333,
              "#9c179e"
             ],
             [
              0.4444444444444444,
              "#bd3786"
             ],
             [
              0.5555555555555556,
              "#d8576b"
             ],
             [
              0.6666666666666666,
              "#ed7953"
             ],
             [
              0.7777777777777778,
              "#fb9f3a"
             ],
             [
              0.8888888888888888,
              "#fdca26"
             ],
             [
              1,
              "#f0f921"
             ]
            ],
            "type": "histogram2d"
           }
          ],
          "histogram2dcontour": [
           {
            "colorbar": {
             "outlinewidth": 0,
             "ticks": ""
            },
            "colorscale": [
             [
              0,
              "#0d0887"
             ],
             [
              0.1111111111111111,
              "#46039f"
             ],
             [
              0.2222222222222222,
              "#7201a8"
             ],
             [
              0.3333333333333333,
              "#9c179e"
             ],
             [
              0.4444444444444444,
              "#bd3786"
             ],
             [
              0.5555555555555556,
              "#d8576b"
             ],
             [
              0.6666666666666666,
              "#ed7953"
             ],
             [
              0.7777777777777778,
              "#fb9f3a"
             ],
             [
              0.8888888888888888,
              "#fdca26"
             ],
             [
              1,
              "#f0f921"
             ]
            ],
            "type": "histogram2dcontour"
           }
          ],
          "mesh3d": [
           {
            "colorbar": {
             "outlinewidth": 0,
             "ticks": ""
            },
            "type": "mesh3d"
           }
          ],
          "parcoords": [
           {
            "line": {
             "colorbar": {
              "outlinewidth": 0,
              "ticks": ""
             }
            },
            "type": "parcoords"
           }
          ],
          "pie": [
           {
            "automargin": true,
            "type": "pie"
           }
          ],
          "scatter": [
           {
            "marker": {
             "colorbar": {
              "outlinewidth": 0,
              "ticks": ""
             }
            },
            "type": "scatter"
           }
          ],
          "scatter3d": [
           {
            "line": {
             "colorbar": {
              "outlinewidth": 0,
              "ticks": ""
             }
            },
            "marker": {
             "colorbar": {
              "outlinewidth": 0,
              "ticks": ""
             }
            },
            "type": "scatter3d"
           }
          ],
          "scattercarpet": [
           {
            "marker": {
             "colorbar": {
              "outlinewidth": 0,
              "ticks": ""
             }
            },
            "type": "scattercarpet"
           }
          ],
          "scattergeo": [
           {
            "marker": {
             "colorbar": {
              "outlinewidth": 0,
              "ticks": ""
             }
            },
            "type": "scattergeo"
           }
          ],
          "scattergl": [
           {
            "marker": {
             "colorbar": {
              "outlinewidth": 0,
              "ticks": ""
             }
            },
            "type": "scattergl"
           }
          ],
          "scattermapbox": [
           {
            "marker": {
             "colorbar": {
              "outlinewidth": 0,
              "ticks": ""
             }
            },
            "type": "scattermapbox"
           }
          ],
          "scatterpolar": [
           {
            "marker": {
             "colorbar": {
              "outlinewidth": 0,
              "ticks": ""
             }
            },
            "type": "scatterpolar"
           }
          ],
          "scatterpolargl": [
           {
            "marker": {
             "colorbar": {
              "outlinewidth": 0,
              "ticks": ""
             }
            },
            "type": "scatterpolargl"
           }
          ],
          "scatterternary": [
           {
            "marker": {
             "colorbar": {
              "outlinewidth": 0,
              "ticks": ""
             }
            },
            "type": "scatterternary"
           }
          ],
          "surface": [
           {
            "colorbar": {
             "outlinewidth": 0,
             "ticks": ""
            },
            "colorscale": [
             [
              0,
              "#0d0887"
             ],
             [
              0.1111111111111111,
              "#46039f"
             ],
             [
              0.2222222222222222,
              "#7201a8"
             ],
             [
              0.3333333333333333,
              "#9c179e"
             ],
             [
              0.4444444444444444,
              "#bd3786"
             ],
             [
              0.5555555555555556,
              "#d8576b"
             ],
             [
              0.6666666666666666,
              "#ed7953"
             ],
             [
              0.7777777777777778,
              "#fb9f3a"
             ],
             [
              0.8888888888888888,
              "#fdca26"
             ],
             [
              1,
              "#f0f921"
             ]
            ],
            "type": "surface"
           }
          ],
          "table": [
           {
            "cells": {
             "fill": {
              "color": "#EBF0F8"
             },
             "line": {
              "color": "white"
             }
            },
            "header": {
             "fill": {
              "color": "#C8D4E3"
             },
             "line": {
              "color": "white"
             }
            },
            "type": "table"
           }
          ]
         },
         "layout": {
          "annotationdefaults": {
           "arrowcolor": "#2a3f5f",
           "arrowhead": 0,
           "arrowwidth": 1
          },
          "autotypenumbers": "strict",
          "coloraxis": {
           "colorbar": {
            "outlinewidth": 0,
            "ticks": ""
           }
          },
          "colorscale": {
           "diverging": [
            [
             0,
             "#8e0152"
            ],
            [
             0.1,
             "#c51b7d"
            ],
            [
             0.2,
             "#de77ae"
            ],
            [
             0.3,
             "#f1b6da"
            ],
            [
             0.4,
             "#fde0ef"
            ],
            [
             0.5,
             "#f7f7f7"
            ],
            [
             0.6,
             "#e6f5d0"
            ],
            [
             0.7,
             "#b8e186"
            ],
            [
             0.8,
             "#7fbc41"
            ],
            [
             0.9,
             "#4d9221"
            ],
            [
             1,
             "#276419"
            ]
           ],
           "sequential": [
            [
             0,
             "#0d0887"
            ],
            [
             0.1111111111111111,
             "#46039f"
            ],
            [
             0.2222222222222222,
             "#7201a8"
            ],
            [
             0.3333333333333333,
             "#9c179e"
            ],
            [
             0.4444444444444444,
             "#bd3786"
            ],
            [
             0.5555555555555556,
             "#d8576b"
            ],
            [
             0.6666666666666666,
             "#ed7953"
            ],
            [
             0.7777777777777778,
             "#fb9f3a"
            ],
            [
             0.8888888888888888,
             "#fdca26"
            ],
            [
             1,
             "#f0f921"
            ]
           ],
           "sequentialminus": [
            [
             0,
             "#0d0887"
            ],
            [
             0.1111111111111111,
             "#46039f"
            ],
            [
             0.2222222222222222,
             "#7201a8"
            ],
            [
             0.3333333333333333,
             "#9c179e"
            ],
            [
             0.4444444444444444,
             "#bd3786"
            ],
            [
             0.5555555555555556,
             "#d8576b"
            ],
            [
             0.6666666666666666,
             "#ed7953"
            ],
            [
             0.7777777777777778,
             "#fb9f3a"
            ],
            [
             0.8888888888888888,
             "#fdca26"
            ],
            [
             1,
             "#f0f921"
            ]
           ]
          },
          "colorway": [
           "#636efa",
           "#EF553B",
           "#00cc96",
           "#ab63fa",
           "#FFA15A",
           "#19d3f3",
           "#FF6692",
           "#B6E880",
           "#FF97FF",
           "#FECB52"
          ],
          "font": {
           "color": "#2a3f5f"
          },
          "geo": {
           "bgcolor": "white",
           "lakecolor": "white",
           "landcolor": "#E5ECF6",
           "showlakes": true,
           "showland": true,
           "subunitcolor": "white"
          },
          "hoverlabel": {
           "align": "left"
          },
          "hovermode": "closest",
          "mapbox": {
           "style": "light"
          },
          "paper_bgcolor": "white",
          "plot_bgcolor": "#E5ECF6",
          "polar": {
           "angularaxis": {
            "gridcolor": "white",
            "linecolor": "white",
            "ticks": ""
           },
           "bgcolor": "#E5ECF6",
           "radialaxis": {
            "gridcolor": "white",
            "linecolor": "white",
            "ticks": ""
           }
          },
          "scene": {
           "xaxis": {
            "backgroundcolor": "#E5ECF6",
            "gridcolor": "white",
            "gridwidth": 2,
            "linecolor": "white",
            "showbackground": true,
            "ticks": "",
            "zerolinecolor": "white"
           },
           "yaxis": {
            "backgroundcolor": "#E5ECF6",
            "gridcolor": "white",
            "gridwidth": 2,
            "linecolor": "white",
            "showbackground": true,
            "ticks": "",
            "zerolinecolor": "white"
           },
           "zaxis": {
            "backgroundcolor": "#E5ECF6",
            "gridcolor": "white",
            "gridwidth": 2,
            "linecolor": "white",
            "showbackground": true,
            "ticks": "",
            "zerolinecolor": "white"
           }
          },
          "shapedefaults": {
           "line": {
            "color": "#2a3f5f"
           }
          },
          "ternary": {
           "aaxis": {
            "gridcolor": "white",
            "linecolor": "white",
            "ticks": ""
           },
           "baxis": {
            "gridcolor": "white",
            "linecolor": "white",
            "ticks": ""
           },
           "bgcolor": "#E5ECF6",
           "caxis": {
            "gridcolor": "white",
            "linecolor": "white",
            "ticks": ""
           }
          },
          "title": {
           "x": 0.05
          },
          "xaxis": {
           "automargin": true,
           "gridcolor": "white",
           "linecolor": "white",
           "ticks": "",
           "title": {
            "standoff": 15
           },
           "zerolinecolor": "white",
           "zerolinewidth": 2
          },
          "yaxis": {
           "automargin": true,
           "gridcolor": "white",
           "linecolor": "white",
           "ticks": "",
           "title": {
            "standoff": 15
           },
           "zerolinecolor": "white",
           "zerolinewidth": 2
          }
         }
        },
        "title": {
         "text": "Top 20 in points"
        },
        "xaxis": {
         "anchor": "y",
         "domain": [
          0,
          1
         ],
         "title": {
          "text": "Player"
         }
        },
        "yaxis": {
         "anchor": "x",
         "domain": [
          0,
          1
         ],
         "title": {
          "text": "value"
         }
        }
       }
      }
     },
     "metadata": {}
    }
   ],
   "source": [
    "color_dict = {'EVG':'red', 'PPG':'red','A':'blue'}\n",
    "fig_stackedbar = px.bar(test_df, x='Player', y=['A','EVG','PPG'], title='Top 20 in points',                             color_discrete_map=color_dict)\n",
    "fig_stackedbar.show()"
   ]
  },
  {
   "cell_type": "code",
   "execution_count": 11,
   "metadata": {},
   "outputs": [
    {
     "output_type": "display_data",
     "data": {
      "application/vnd.plotly.v1+json": {
       "config": {
        "plotlyServerURL": "https://plot.ly"
       },
       "data": [
        {
         "hovertemplate": "P/GP=%{x}<br>Player=%{y}<extra></extra>",
         "legendgroup": "",
         "marker": {
          "color": "#636efa",
          "symbol": "circle"
         },
         "mode": "markers",
         "name": "",
         "orientation": "h",
         "showlegend": false,
         "type": "scatter",
         "x": [
          1.88,
          1.5,
          1.3,
          1.22,
          1.27,
          1.27,
          1.18,
          1.35,
          1.13,
          1.13,
          1.11,
          1.11,
          1.16,
          1.04,
          1.38,
          1.02,
          1.02,
          1.08,
          0.96,
          0.96
         ],
         "xaxis": "x",
         "y": [
          "Connor McDavid",
          "Leon Draisaitl",
          "Brad Marchand",
          "Mitchell Marner",
          "Auston Matthews",
          "Mikko Rantanen",
          "Patrick Kane",
          "Nathan MacKinnon",
          "Mark Scheifele",
          "Sidney Crosby",
          "Mark Stone",
          "Jonathan Huberdeau",
          "Aleksander Barkov",
          "David Perron",
          "Artemi Panarin",
          "Sebastian Aho",
          "Jake Guentzel",
          "Alex DeBrincat",
          "Ryan O'Reilly",
          "Nicklas Backstrom"
         ],
         "yaxis": "y"
        }
       ],
       "layout": {
        "legend": {
         "tracegroupgap": 0
        },
        "template": {
         "data": {
          "bar": [
           {
            "error_x": {
             "color": "#2a3f5f"
            },
            "error_y": {
             "color": "#2a3f5f"
            },
            "marker": {
             "line": {
              "color": "#E5ECF6",
              "width": 0.5
             }
            },
            "type": "bar"
           }
          ],
          "barpolar": [
           {
            "marker": {
             "line": {
              "color": "#E5ECF6",
              "width": 0.5
             }
            },
            "type": "barpolar"
           }
          ],
          "carpet": [
           {
            "aaxis": {
             "endlinecolor": "#2a3f5f",
             "gridcolor": "white",
             "linecolor": "white",
             "minorgridcolor": "white",
             "startlinecolor": "#2a3f5f"
            },
            "baxis": {
             "endlinecolor": "#2a3f5f",
             "gridcolor": "white",
             "linecolor": "white",
             "minorgridcolor": "white",
             "startlinecolor": "#2a3f5f"
            },
            "type": "carpet"
           }
          ],
          "choropleth": [
           {
            "colorbar": {
             "outlinewidth": 0,
             "ticks": ""
            },
            "type": "choropleth"
           }
          ],
          "contour": [
           {
            "colorbar": {
             "outlinewidth": 0,
             "ticks": ""
            },
            "colorscale": [
             [
              0,
              "#0d0887"
             ],
             [
              0.1111111111111111,
              "#46039f"
             ],
             [
              0.2222222222222222,
              "#7201a8"
             ],
             [
              0.3333333333333333,
              "#9c179e"
             ],
             [
              0.4444444444444444,
              "#bd3786"
             ],
             [
              0.5555555555555556,
              "#d8576b"
             ],
             [
              0.6666666666666666,
              "#ed7953"
             ],
             [
              0.7777777777777778,
              "#fb9f3a"
             ],
             [
              0.8888888888888888,
              "#fdca26"
             ],
             [
              1,
              "#f0f921"
             ]
            ],
            "type": "contour"
           }
          ],
          "contourcarpet": [
           {
            "colorbar": {
             "outlinewidth": 0,
             "ticks": ""
            },
            "type": "contourcarpet"
           }
          ],
          "heatmap": [
           {
            "colorbar": {
             "outlinewidth": 0,
             "ticks": ""
            },
            "colorscale": [
             [
              0,
              "#0d0887"
             ],
             [
              0.1111111111111111,
              "#46039f"
             ],
             [
              0.2222222222222222,
              "#7201a8"
             ],
             [
              0.3333333333333333,
              "#9c179e"
             ],
             [
              0.4444444444444444,
              "#bd3786"
             ],
             [
              0.5555555555555556,
              "#d8576b"
             ],
             [
              0.6666666666666666,
              "#ed7953"
             ],
             [
              0.7777777777777778,
              "#fb9f3a"
             ],
             [
              0.8888888888888888,
              "#fdca26"
             ],
             [
              1,
              "#f0f921"
             ]
            ],
            "type": "heatmap"
           }
          ],
          "heatmapgl": [
           {
            "colorbar": {
             "outlinewidth": 0,
             "ticks": ""
            },
            "colorscale": [
             [
              0,
              "#0d0887"
             ],
             [
              0.1111111111111111,
              "#46039f"
             ],
             [
              0.2222222222222222,
              "#7201a8"
             ],
             [
              0.3333333333333333,
              "#9c179e"
             ],
             [
              0.4444444444444444,
              "#bd3786"
             ],
             [
              0.5555555555555556,
              "#d8576b"
             ],
             [
              0.6666666666666666,
              "#ed7953"
             ],
             [
              0.7777777777777778,
              "#fb9f3a"
             ],
             [
              0.8888888888888888,
              "#fdca26"
             ],
             [
              1,
              "#f0f921"
             ]
            ],
            "type": "heatmapgl"
           }
          ],
          "histogram": [
           {
            "marker": {
             "colorbar": {
              "outlinewidth": 0,
              "ticks": ""
             }
            },
            "type": "histogram"
           }
          ],
          "histogram2d": [
           {
            "colorbar": {
             "outlinewidth": 0,
             "ticks": ""
            },
            "colorscale": [
             [
              0,
              "#0d0887"
             ],
             [
              0.1111111111111111,
              "#46039f"
             ],
             [
              0.2222222222222222,
              "#7201a8"
             ],
             [
              0.3333333333333333,
              "#9c179e"
             ],
             [
              0.4444444444444444,
              "#bd3786"
             ],
             [
              0.5555555555555556,
              "#d8576b"
             ],
             [
              0.6666666666666666,
              "#ed7953"
             ],
             [
              0.7777777777777778,
              "#fb9f3a"
             ],
             [
              0.8888888888888888,
              "#fdca26"
             ],
             [
              1,
              "#f0f921"
             ]
            ],
            "type": "histogram2d"
           }
          ],
          "histogram2dcontour": [
           {
            "colorbar": {
             "outlinewidth": 0,
             "ticks": ""
            },
            "colorscale": [
             [
              0,
              "#0d0887"
             ],
             [
              0.1111111111111111,
              "#46039f"
             ],
             [
              0.2222222222222222,
              "#7201a8"
             ],
             [
              0.3333333333333333,
              "#9c179e"
             ],
             [
              0.4444444444444444,
              "#bd3786"
             ],
             [
              0.5555555555555556,
              "#d8576b"
             ],
             [
              0.6666666666666666,
              "#ed7953"
             ],
             [
              0.7777777777777778,
              "#fb9f3a"
             ],
             [
              0.8888888888888888,
              "#fdca26"
             ],
             [
              1,
              "#f0f921"
             ]
            ],
            "type": "histogram2dcontour"
           }
          ],
          "mesh3d": [
           {
            "colorbar": {
             "outlinewidth": 0,
             "ticks": ""
            },
            "type": "mesh3d"
           }
          ],
          "parcoords": [
           {
            "line": {
             "colorbar": {
              "outlinewidth": 0,
              "ticks": ""
             }
            },
            "type": "parcoords"
           }
          ],
          "pie": [
           {
            "automargin": true,
            "type": "pie"
           }
          ],
          "scatter": [
           {
            "marker": {
             "colorbar": {
              "outlinewidth": 0,
              "ticks": ""
             }
            },
            "type": "scatter"
           }
          ],
          "scatter3d": [
           {
            "line": {
             "colorbar": {
              "outlinewidth": 0,
              "ticks": ""
             }
            },
            "marker": {
             "colorbar": {
              "outlinewidth": 0,
              "ticks": ""
             }
            },
            "type": "scatter3d"
           }
          ],
          "scattercarpet": [
           {
            "marker": {
             "colorbar": {
              "outlinewidth": 0,
              "ticks": ""
             }
            },
            "type": "scattercarpet"
           }
          ],
          "scattergeo": [
           {
            "marker": {
             "colorbar": {
              "outlinewidth": 0,
              "ticks": ""
             }
            },
            "type": "scattergeo"
           }
          ],
          "scattergl": [
           {
            "marker": {
             "colorbar": {
              "outlinewidth": 0,
              "ticks": ""
             }
            },
            "type": "scattergl"
           }
          ],
          "scattermapbox": [
           {
            "marker": {
             "colorbar": {
              "outlinewidth": 0,
              "ticks": ""
             }
            },
            "type": "scattermapbox"
           }
          ],
          "scatterpolar": [
           {
            "marker": {
             "colorbar": {
              "outlinewidth": 0,
              "ticks": ""
             }
            },
            "type": "scatterpolar"
           }
          ],
          "scatterpolargl": [
           {
            "marker": {
             "colorbar": {
              "outlinewidth": 0,
              "ticks": ""
             }
            },
            "type": "scatterpolargl"
           }
          ],
          "scatterternary": [
           {
            "marker": {
             "colorbar": {
              "outlinewidth": 0,
              "ticks": ""
             }
            },
            "type": "scatterternary"
           }
          ],
          "surface": [
           {
            "colorbar": {
             "outlinewidth": 0,
             "ticks": ""
            },
            "colorscale": [
             [
              0,
              "#0d0887"
             ],
             [
              0.1111111111111111,
              "#46039f"
             ],
             [
              0.2222222222222222,
              "#7201a8"
             ],
             [
              0.3333333333333333,
              "#9c179e"
             ],
             [
              0.4444444444444444,
              "#bd3786"
             ],
             [
              0.5555555555555556,
              "#d8576b"
             ],
             [
              0.6666666666666666,
              "#ed7953"
             ],
             [
              0.7777777777777778,
              "#fb9f3a"
             ],
             [
              0.8888888888888888,
              "#fdca26"
             ],
             [
              1,
              "#f0f921"
             ]
            ],
            "type": "surface"
           }
          ],
          "table": [
           {
            "cells": {
             "fill": {
              "color": "#EBF0F8"
             },
             "line": {
              "color": "white"
             }
            },
            "header": {
             "fill": {
              "color": "#C8D4E3"
             },
             "line": {
              "color": "white"
             }
            },
            "type": "table"
           }
          ]
         },
         "layout": {
          "annotationdefaults": {
           "arrowcolor": "#2a3f5f",
           "arrowhead": 0,
           "arrowwidth": 1
          },
          "autotypenumbers": "strict",
          "coloraxis": {
           "colorbar": {
            "outlinewidth": 0,
            "ticks": ""
           }
          },
          "colorscale": {
           "diverging": [
            [
             0,
             "#8e0152"
            ],
            [
             0.1,
             "#c51b7d"
            ],
            [
             0.2,
             "#de77ae"
            ],
            [
             0.3,
             "#f1b6da"
            ],
            [
             0.4,
             "#fde0ef"
            ],
            [
             0.5,
             "#f7f7f7"
            ],
            [
             0.6,
             "#e6f5d0"
            ],
            [
             0.7,
             "#b8e186"
            ],
            [
             0.8,
             "#7fbc41"
            ],
            [
             0.9,
             "#4d9221"
            ],
            [
             1,
             "#276419"
            ]
           ],
           "sequential": [
            [
             0,
             "#0d0887"
            ],
            [
             0.1111111111111111,
             "#46039f"
            ],
            [
             0.2222222222222222,
             "#7201a8"
            ],
            [
             0.3333333333333333,
             "#9c179e"
            ],
            [
             0.4444444444444444,
             "#bd3786"
            ],
            [
             0.5555555555555556,
             "#d8576b"
            ],
            [
             0.6666666666666666,
             "#ed7953"
            ],
            [
             0.7777777777777778,
             "#fb9f3a"
            ],
            [
             0.8888888888888888,
             "#fdca26"
            ],
            [
             1,
             "#f0f921"
            ]
           ],
           "sequentialminus": [
            [
             0,
             "#0d0887"
            ],
            [
             0.1111111111111111,
             "#46039f"
            ],
            [
             0.2222222222222222,
             "#7201a8"
            ],
            [
             0.3333333333333333,
             "#9c179e"
            ],
            [
             0.4444444444444444,
             "#bd3786"
            ],
            [
             0.5555555555555556,
             "#d8576b"
            ],
            [
             0.6666666666666666,
             "#ed7953"
            ],
            [
             0.7777777777777778,
             "#fb9f3a"
            ],
            [
             0.8888888888888888,
             "#fdca26"
            ],
            [
             1,
             "#f0f921"
            ]
           ]
          },
          "colorway": [
           "#636efa",
           "#EF553B",
           "#00cc96",
           "#ab63fa",
           "#FFA15A",
           "#19d3f3",
           "#FF6692",
           "#B6E880",
           "#FF97FF",
           "#FECB52"
          ],
          "font": {
           "color": "#2a3f5f"
          },
          "geo": {
           "bgcolor": "white",
           "lakecolor": "white",
           "landcolor": "#E5ECF6",
           "showlakes": true,
           "showland": true,
           "subunitcolor": "white"
          },
          "hoverlabel": {
           "align": "left"
          },
          "hovermode": "closest",
          "mapbox": {
           "style": "light"
          },
          "paper_bgcolor": "white",
          "plot_bgcolor": "#E5ECF6",
          "polar": {
           "angularaxis": {
            "gridcolor": "white",
            "linecolor": "white",
            "ticks": ""
           },
           "bgcolor": "#E5ECF6",
           "radialaxis": {
            "gridcolor": "white",
            "linecolor": "white",
            "ticks": ""
           }
          },
          "scene": {
           "xaxis": {
            "backgroundcolor": "#E5ECF6",
            "gridcolor": "white",
            "gridwidth": 2,
            "linecolor": "white",
            "showbackground": true,
            "ticks": "",
            "zerolinecolor": "white"
           },
           "yaxis": {
            "backgroundcolor": "#E5ECF6",
            "gridcolor": "white",
            "gridwidth": 2,
            "linecolor": "white",
            "showbackground": true,
            "ticks": "",
            "zerolinecolor": "white"
           },
           "zaxis": {
            "backgroundcolor": "#E5ECF6",
            "gridcolor": "white",
            "gridwidth": 2,
            "linecolor": "white",
            "showbackground": true,
            "ticks": "",
            "zerolinecolor": "white"
           }
          },
          "shapedefaults": {
           "line": {
            "color": "#2a3f5f"
           }
          },
          "ternary": {
           "aaxis": {
            "gridcolor": "white",
            "linecolor": "white",
            "ticks": ""
           },
           "baxis": {
            "gridcolor": "white",
            "linecolor": "white",
            "ticks": ""
           },
           "bgcolor": "#E5ECF6",
           "caxis": {
            "gridcolor": "white",
            "linecolor": "white",
            "ticks": ""
           }
          },
          "title": {
           "x": 0.05
          },
          "xaxis": {
           "automargin": true,
           "gridcolor": "white",
           "linecolor": "white",
           "ticks": "",
           "title": {
            "standoff": 15
           },
           "zerolinecolor": "white",
           "zerolinewidth": 2
          },
          "yaxis": {
           "automargin": true,
           "gridcolor": "white",
           "linecolor": "white",
           "ticks": "",
           "title": {
            "standoff": 15
           },
           "zerolinecolor": "white",
           "zerolinewidth": 2
          }
         }
        },
        "title": {
         "text": "Ponts per Game Played for the Top 20 in points"
        },
        "xaxis": {
         "anchor": "y",
         "domain": [
          0,
          1
         ],
         "title": {
          "text": "P/GP"
         }
        },
        "yaxis": {
         "anchor": "x",
         "domain": [
          0,
          1
         ],
         "nticks": 22,
         "tickangle": -30,
         "ticks": "outside",
         "title": {
          "text": "Player"
         }
        }
       }
      }
     },
     "metadata": {}
    }
   ],
   "source": [
    "fig_dot_pgp = px.scatter(test_df, x='P/GP', y='Player', \n",
    "                        title='Ponts per Game Played for the Top 20 in points')\n",
    "\n",
    "fig_dot_pgp.update_yaxes(nticks=22,ticks = \"outside\", tickangle=-30)\n",
    "\n",
    "fig_dot_pgp.show()"
   ]
  }
 ]
}